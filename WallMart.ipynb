{
  "nbformat": 4,
  "nbformat_minor": 0,
  "metadata": {
    "colab": {
      "provenance": [],
      "authorship_tag": "ABX9TyPFOrj6X6hPI3yFDcQ6rifM",
      "include_colab_link": true
    },
    "kernelspec": {
      "name": "python3",
      "display_name": "Python 3"
    },
    "language_info": {
      "name": "python"
    }
  },
  "cells": [
    {
      "cell_type": "markdown",
      "metadata": {
        "id": "view-in-github",
        "colab_type": "text"
      },
      "source": [
        "<a href=\"https://colab.research.google.com/github/AdithyaMaddala/A-Deep-Dive-into-Walmart-s-Black-Friday-Sales/blob/main/WallMart.ipynb\" target=\"_parent\"><img src=\"https://colab.research.google.com/assets/colab-badge.svg\" alt=\"Open In Colab\"/></a>"
      ]
    },
    {
      "cell_type": "markdown",
      "source": [
        "![images.png](data:image/png;base64,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)"
      ],
      "metadata": {
        "id": "5JHoSIgCo9AF"
      }
    },
    {
      "cell_type": "markdown",
      "source": [
        "**Walmart** is an American multinational retail corporation that operates a chain of supercenters, discount departmental stores, and grocery stores from the United States. **Walmart** has more than **100 million** customers worldwide."
      ],
      "metadata": {
        "id": "Ama4L0zR1K-9"
      }
    },
    {
      "cell_type": "markdown",
      "source": [
        "#<font color='purple'>Business Problem\n",
        "\n",
        "The Management team at Walmart Inc. wants to **analyze the customer purchase behavior** (specifically, purchase amount) against the **customer’s gender and the various other factors** to help the business make better decisions. They want to understand if the **spending habits differ between male and female** customers: **Do women spend more on Black Friday than men**? (Assume 50 million customers are male and 50 million are female)."
      ],
      "metadata": {
        "id": "bi768UWn1qw4"
      }
    },
    {
      "cell_type": "code",
      "source": [
        "#re-run\n",
        "import numpy as np\n",
        "import pandas as pd\n",
        "import seaborn as sns\n",
        "import matplotlib.pyplot as plt\n",
        "from scipy import stats"
      ],
      "metadata": {
        "id": "5dAlUW-kn7Sd"
      },
      "execution_count": null,
      "outputs": []
    },
    {
      "cell_type": "markdown",
      "source": [
        "#<font color='purple'>Dataset\n",
        "The company collected the **transactional data** of customers who **purchased** products from the **Walmart Stores** during **Black Friday Sale**"
      ],
      "metadata": {
        "id": "infz4ZPk2Fvk"
      }
    },
    {
      "cell_type": "code",
      "execution_count": null,
      "metadata": {
        "colab": {
          "base_uri": "https://localhost:8080/"
        },
        "id": "aqImLma4neHG",
        "outputId": "253e7ae5-fcb4-45d6-8d83-d195cc697703"
      },
      "outputs": [
        {
          "output_type": "stream",
          "name": "stdout",
          "text": [
            "--2024-05-06 08:57:54--  https://d2beiqkhq929f0.cloudfront.net/public_assets/assets/000/001/293/original/walmart_data.csv?1641285094\n",
            "Resolving d2beiqkhq929f0.cloudfront.net (d2beiqkhq929f0.cloudfront.net)... 13.224.9.24, 13.224.9.103, 13.224.9.181, ...\n",
            "Connecting to d2beiqkhq929f0.cloudfront.net (d2beiqkhq929f0.cloudfront.net)|13.224.9.24|:443... connected.\n",
            "HTTP request sent, awaiting response... 200 OK\n",
            "Length: 23027994 (22M) [text/plain]\n",
            "Saving to: ‘walmart_data.csv?1641285094’\n",
            "\n",
            "walmart_data.csv?16 100%[===================>]  21.96M  97.4MB/s    in 0.2s    \n",
            "\n",
            "2024-05-06 08:57:54 (97.4 MB/s) - ‘walmart_data.csv?1641285094’ saved [23027994/23027994]\n",
            "\n"
          ]
        }
      ],
      "source": [
        "#re-run\n",
        "!wget https://d2beiqkhq929f0.cloudfront.net/public_assets/assets/000/001/293/original/walmart_data.csv?1641285094"
      ]
    },
    {
      "cell_type": "code",
      "source": [
        "#re-run\n",
        "df = pd.read_csv('walmart_data.csv?1641285094')\n",
        "df.head(3)"
      ],
      "metadata": {
        "colab": {
          "base_uri": "https://localhost:8080/",
          "height": 143
        },
        "id": "vCflAlVjn6V1",
        "outputId": "ad1040de-110d-4a69-eb7e-d6d6c939a3ae"
      },
      "execution_count": null,
      "outputs": [
        {
          "output_type": "execute_result",
          "data": {
            "text/plain": [
              "   User_ID Product_ID Gender   Age  Occupation City_Category  \\\n",
              "0  1000001  P00069042      F  0-17          10             A   \n",
              "1  1000001  P00248942      F  0-17          10             A   \n",
              "2  1000001  P00087842      F  0-17          10             A   \n",
              "\n",
              "  Stay_In_Current_City_Years  Marital_Status  Product_Category  Purchase  \n",
              "0                          2               0                 3      8370  \n",
              "1                          2               0                 1     15200  \n",
              "2                          2               0                12      1422  "
            ],
            "text/html": [
              "\n",
              "  <div id=\"df-316b40f2-a7f5-4410-8e37-2dd4373e1918\" class=\"colab-df-container\">\n",
              "    <div>\n",
              "<style scoped>\n",
              "    .dataframe tbody tr th:only-of-type {\n",
              "        vertical-align: middle;\n",
              "    }\n",
              "\n",
              "    .dataframe tbody tr th {\n",
              "        vertical-align: top;\n",
              "    }\n",
              "\n",
              "    .dataframe thead th {\n",
              "        text-align: right;\n",
              "    }\n",
              "</style>\n",
              "<table border=\"1\" class=\"dataframe\">\n",
              "  <thead>\n",
              "    <tr style=\"text-align: right;\">\n",
              "      <th></th>\n",
              "      <th>User_ID</th>\n",
              "      <th>Product_ID</th>\n",
              "      <th>Gender</th>\n",
              "      <th>Age</th>\n",
              "      <th>Occupation</th>\n",
              "      <th>City_Category</th>\n",
              "      <th>Stay_In_Current_City_Years</th>\n",
              "      <th>Marital_Status</th>\n",
              "      <th>Product_Category</th>\n",
              "      <th>Purchase</th>\n",
              "    </tr>\n",
              "  </thead>\n",
              "  <tbody>\n",
              "    <tr>\n",
              "      <th>0</th>\n",
              "      <td>1000001</td>\n",
              "      <td>P00069042</td>\n",
              "      <td>F</td>\n",
              "      <td>0-17</td>\n",
              "      <td>10</td>\n",
              "      <td>A</td>\n",
              "      <td>2</td>\n",
              "      <td>0</td>\n",
              "      <td>3</td>\n",
              "      <td>8370</td>\n",
              "    </tr>\n",
              "    <tr>\n",
              "      <th>1</th>\n",
              "      <td>1000001</td>\n",
              "      <td>P00248942</td>\n",
              "      <td>F</td>\n",
              "      <td>0-17</td>\n",
              "      <td>10</td>\n",
              "      <td>A</td>\n",
              "      <td>2</td>\n",
              "      <td>0</td>\n",
              "      <td>1</td>\n",
              "      <td>15200</td>\n",
              "    </tr>\n",
              "    <tr>\n",
              "      <th>2</th>\n",
              "      <td>1000001</td>\n",
              "      <td>P00087842</td>\n",
              "      <td>F</td>\n",
              "      <td>0-17</td>\n",
              "      <td>10</td>\n",
              "      <td>A</td>\n",
              "      <td>2</td>\n",
              "      <td>0</td>\n",
              "      <td>12</td>\n",
              "      <td>1422</td>\n",
              "    </tr>\n",
              "  </tbody>\n",
              "</table>\n",
              "</div>\n",
              "    <div class=\"colab-df-buttons\">\n",
              "\n",
              "  <div class=\"colab-df-container\">\n",
              "    <button class=\"colab-df-convert\" onclick=\"convertToInteractive('df-316b40f2-a7f5-4410-8e37-2dd4373e1918')\"\n",
              "            title=\"Convert this dataframe to an interactive table.\"\n",
              "            style=\"display:none;\">\n",
              "\n",
              "  <svg xmlns=\"http://www.w3.org/2000/svg\" height=\"24px\" viewBox=\"0 -960 960 960\">\n",
              "    <path d=\"M120-120v-720h720v720H120Zm60-500h600v-160H180v160Zm220 220h160v-160H400v160Zm0 220h160v-160H400v160ZM180-400h160v-160H180v160Zm440 0h160v-160H620v160ZM180-180h160v-160H180v160Zm440 0h160v-160H620v160Z\"/>\n",
              "  </svg>\n",
              "    </button>\n",
              "\n",
              "  <style>\n",
              "    .colab-df-container {\n",
              "      display:flex;\n",
              "      gap: 12px;\n",
              "    }\n",
              "\n",
              "    .colab-df-convert {\n",
              "      background-color: #E8F0FE;\n",
              "      border: none;\n",
              "      border-radius: 50%;\n",
              "      cursor: pointer;\n",
              "      display: none;\n",
              "      fill: #1967D2;\n",
              "      height: 32px;\n",
              "      padding: 0 0 0 0;\n",
              "      width: 32px;\n",
              "    }\n",
              "\n",
              "    .colab-df-convert:hover {\n",
              "      background-color: #E2EBFA;\n",
              "      box-shadow: 0px 1px 2px rgba(60, 64, 67, 0.3), 0px 1px 3px 1px rgba(60, 64, 67, 0.15);\n",
              "      fill: #174EA6;\n",
              "    }\n",
              "\n",
              "    .colab-df-buttons div {\n",
              "      margin-bottom: 4px;\n",
              "    }\n",
              "\n",
              "    [theme=dark] .colab-df-convert {\n",
              "      background-color: #3B4455;\n",
              "      fill: #D2E3FC;\n",
              "    }\n",
              "\n",
              "    [theme=dark] .colab-df-convert:hover {\n",
              "      background-color: #434B5C;\n",
              "      box-shadow: 0px 1px 3px 1px rgba(0, 0, 0, 0.15);\n",
              "      filter: drop-shadow(0px 1px 2px rgba(0, 0, 0, 0.3));\n",
              "      fill: #FFFFFF;\n",
              "    }\n",
              "  </style>\n",
              "\n",
              "    <script>\n",
              "      const buttonEl =\n",
              "        document.querySelector('#df-316b40f2-a7f5-4410-8e37-2dd4373e1918 button.colab-df-convert');\n",
              "      buttonEl.style.display =\n",
              "        google.colab.kernel.accessAllowed ? 'block' : 'none';\n",
              "\n",
              "      async function convertToInteractive(key) {\n",
              "        const element = document.querySelector('#df-316b40f2-a7f5-4410-8e37-2dd4373e1918');\n",
              "        const dataTable =\n",
              "          await google.colab.kernel.invokeFunction('convertToInteractive',\n",
              "                                                    [key], {});\n",
              "        if (!dataTable) return;\n",
              "\n",
              "        const docLinkHtml = 'Like what you see? Visit the ' +\n",
              "          '<a target=\"_blank\" href=https://colab.research.google.com/notebooks/data_table.ipynb>data table notebook</a>'\n",
              "          + ' to learn more about interactive tables.';\n",
              "        element.innerHTML = '';\n",
              "        dataTable['output_type'] = 'display_data';\n",
              "        await google.colab.output.renderOutput(dataTable, element);\n",
              "        const docLink = document.createElement('div');\n",
              "        docLink.innerHTML = docLinkHtml;\n",
              "        element.appendChild(docLink);\n",
              "      }\n",
              "    </script>\n",
              "  </div>\n",
              "\n",
              "\n",
              "<div id=\"df-54aef583-6b67-49b8-84ac-371ef10c7bec\">\n",
              "  <button class=\"colab-df-quickchart\" onclick=\"quickchart('df-54aef583-6b67-49b8-84ac-371ef10c7bec')\"\n",
              "            title=\"Suggest charts\"\n",
              "            style=\"display:none;\">\n",
              "\n",
              "<svg xmlns=\"http://www.w3.org/2000/svg\" height=\"24px\"viewBox=\"0 0 24 24\"\n",
              "     width=\"24px\">\n",
              "    <g>\n",
              "        <path d=\"M19 3H5c-1.1 0-2 .9-2 2v14c0 1.1.9 2 2 2h14c1.1 0 2-.9 2-2V5c0-1.1-.9-2-2-2zM9 17H7v-7h2v7zm4 0h-2V7h2v10zm4 0h-2v-4h2v4z\"/>\n",
              "    </g>\n",
              "</svg>\n",
              "  </button>\n",
              "\n",
              "<style>\n",
              "  .colab-df-quickchart {\n",
              "      --bg-color: #E8F0FE;\n",
              "      --fill-color: #1967D2;\n",
              "      --hover-bg-color: #E2EBFA;\n",
              "      --hover-fill-color: #174EA6;\n",
              "      --disabled-fill-color: #AAA;\n",
              "      --disabled-bg-color: #DDD;\n",
              "  }\n",
              "\n",
              "  [theme=dark] .colab-df-quickchart {\n",
              "      --bg-color: #3B4455;\n",
              "      --fill-color: #D2E3FC;\n",
              "      --hover-bg-color: #434B5C;\n",
              "      --hover-fill-color: #FFFFFF;\n",
              "      --disabled-bg-color: #3B4455;\n",
              "      --disabled-fill-color: #666;\n",
              "  }\n",
              "\n",
              "  .colab-df-quickchart {\n",
              "    background-color: var(--bg-color);\n",
              "    border: none;\n",
              "    border-radius: 50%;\n",
              "    cursor: pointer;\n",
              "    display: none;\n",
              "    fill: var(--fill-color);\n",
              "    height: 32px;\n",
              "    padding: 0;\n",
              "    width: 32px;\n",
              "  }\n",
              "\n",
              "  .colab-df-quickchart:hover {\n",
              "    background-color: var(--hover-bg-color);\n",
              "    box-shadow: 0 1px 2px rgba(60, 64, 67, 0.3), 0 1px 3px 1px rgba(60, 64, 67, 0.15);\n",
              "    fill: var(--button-hover-fill-color);\n",
              "  }\n",
              "\n",
              "  .colab-df-quickchart-complete:disabled,\n",
              "  .colab-df-quickchart-complete:disabled:hover {\n",
              "    background-color: var(--disabled-bg-color);\n",
              "    fill: var(--disabled-fill-color);\n",
              "    box-shadow: none;\n",
              "  }\n",
              "\n",
              "  .colab-df-spinner {\n",
              "    border: 2px solid var(--fill-color);\n",
              "    border-color: transparent;\n",
              "    border-bottom-color: var(--fill-color);\n",
              "    animation:\n",
              "      spin 1s steps(1) infinite;\n",
              "  }\n",
              "\n",
              "  @keyframes spin {\n",
              "    0% {\n",
              "      border-color: transparent;\n",
              "      border-bottom-color: var(--fill-color);\n",
              "      border-left-color: var(--fill-color);\n",
              "    }\n",
              "    20% {\n",
              "      border-color: transparent;\n",
              "      border-left-color: var(--fill-color);\n",
              "      border-top-color: var(--fill-color);\n",
              "    }\n",
              "    30% {\n",
              "      border-color: transparent;\n",
              "      border-left-color: var(--fill-color);\n",
              "      border-top-color: var(--fill-color);\n",
              "      border-right-color: var(--fill-color);\n",
              "    }\n",
              "    40% {\n",
              "      border-color: transparent;\n",
              "      border-right-color: var(--fill-color);\n",
              "      border-top-color: var(--fill-color);\n",
              "    }\n",
              "    60% {\n",
              "      border-color: transparent;\n",
              "      border-right-color: var(--fill-color);\n",
              "    }\n",
              "    80% {\n",
              "      border-color: transparent;\n",
              "      border-right-color: var(--fill-color);\n",
              "      border-bottom-color: var(--fill-color);\n",
              "    }\n",
              "    90% {\n",
              "      border-color: transparent;\n",
              "      border-bottom-color: var(--fill-color);\n",
              "    }\n",
              "  }\n",
              "</style>\n",
              "\n",
              "  <script>\n",
              "    async function quickchart(key) {\n",
              "      const quickchartButtonEl =\n",
              "        document.querySelector('#' + key + ' button');\n",
              "      quickchartButtonEl.disabled = true;  // To prevent multiple clicks.\n",
              "      quickchartButtonEl.classList.add('colab-df-spinner');\n",
              "      try {\n",
              "        const charts = await google.colab.kernel.invokeFunction(\n",
              "            'suggestCharts', [key], {});\n",
              "      } catch (error) {\n",
              "        console.error('Error during call to suggestCharts:', error);\n",
              "      }\n",
              "      quickchartButtonEl.classList.remove('colab-df-spinner');\n",
              "      quickchartButtonEl.classList.add('colab-df-quickchart-complete');\n",
              "    }\n",
              "    (() => {\n",
              "      let quickchartButtonEl =\n",
              "        document.querySelector('#df-54aef583-6b67-49b8-84ac-371ef10c7bec button');\n",
              "      quickchartButtonEl.style.display =\n",
              "        google.colab.kernel.accessAllowed ? 'block' : 'none';\n",
              "    })();\n",
              "  </script>\n",
              "</div>\n",
              "\n",
              "    </div>\n",
              "  </div>\n"
            ],
            "application/vnd.google.colaboratory.intrinsic+json": {
              "type": "dataframe",
              "variable_name": "df"
            }
          },
          "metadata": {},
          "execution_count": 3
        }
      ]
    },
    {
      "cell_type": "markdown",
      "source": [
        "#<font color='purple'>1. Defining Problem Statement and Analyzing basic metrics (10 Points)\n",
        "\n",
        "<font color='blue'>1.1 Observations on **shape** of data, **data types** of all the attributes, conversion of categorical attributes to 'category' (If required), statistical summary\n"
      ],
      "metadata": {
        "id": "AWlCW0FUgf8P"
      }
    },
    {
      "cell_type": "code",
      "source": [
        "print(f'Shape of WallMart data: {df.shape}\\n'\n",
        "      f'------------------------------------------------------------\\n'\n",
        "      f'The below table describes the datatypes of all the features')\n",
        "df.dtypes"
      ],
      "metadata": {
        "colab": {
          "base_uri": "https://localhost:8080/"
        },
        "id": "QC6_PiVJoe0v",
        "outputId": "e36aa646-1715-474d-b4d4-eee0036857c0"
      },
      "execution_count": null,
      "outputs": [
        {
          "output_type": "stream",
          "name": "stdout",
          "text": [
            "Shape of WallMart data: (550068, 10)\n",
            "Min and max age groups of users:('0-17', '55+')\n",
            "Min and max Purchase:(12, 23961)\n",
            "------------------------------------------------------------\n",
            "The below table describes the datatypes of all the features\n"
          ]
        },
        {
          "output_type": "execute_result",
          "data": {
            "text/plain": [
              "User_ID                        int64\n",
              "Product_ID                    object\n",
              "Gender                        object\n",
              "Age                           object\n",
              "Occupation                     int64\n",
              "City_Category                 object\n",
              "Stay_In_Current_City_Years    object\n",
              "Marital_Status                 int64\n",
              "Product_Category               int64\n",
              "Purchase                       int64\n",
              "dtype: object"
            ]
          },
          "metadata": {},
          "execution_count": 19
        }
      ]
    },
    {
      "cell_type": "code",
      "source": [
        "pd.crosstab(df.Gender,df.Age,margins=True,normalize=True)"
      ],
      "metadata": {
        "colab": {
          "base_uri": "https://localhost:8080/",
          "height": 174
        },
        "id": "yZjbCDxThHKF",
        "outputId": "cc5f725b-ea84-4815-9051-f57c2a290327"
      },
      "execution_count": null,
      "outputs": [
        {
          "output_type": "execute_result",
          "data": {
            "text/plain": [
              "Age         0-17     18-25     26-35     36-45     46-50     51-55       55+  \\\n",
              "Gender                                                                         \n",
              "F       0.009241  0.044773  0.092265  0.049394  0.023995  0.017987  0.009241   \n",
              "M       0.018214  0.136405  0.306935  0.150605  0.059087  0.052006  0.029853   \n",
              "All     0.027455  0.181178  0.399200  0.199999  0.083082  0.069993  0.039093   \n",
              "\n",
              "Age          All  \n",
              "Gender            \n",
              "F       0.246895  \n",
              "M       0.753105  \n",
              "All     1.000000  "
            ],
            "text/html": [
              "\n",
              "  <div id=\"df-cd84ec4e-06db-460d-8a56-b0cf09294694\" class=\"colab-df-container\">\n",
              "    <div>\n",
              "<style scoped>\n",
              "    .dataframe tbody tr th:only-of-type {\n",
              "        vertical-align: middle;\n",
              "    }\n",
              "\n",
              "    .dataframe tbody tr th {\n",
              "        vertical-align: top;\n",
              "    }\n",
              "\n",
              "    .dataframe thead th {\n",
              "        text-align: right;\n",
              "    }\n",
              "</style>\n",
              "<table border=\"1\" class=\"dataframe\">\n",
              "  <thead>\n",
              "    <tr style=\"text-align: right;\">\n",
              "      <th>Age</th>\n",
              "      <th>0-17</th>\n",
              "      <th>18-25</th>\n",
              "      <th>26-35</th>\n",
              "      <th>36-45</th>\n",
              "      <th>46-50</th>\n",
              "      <th>51-55</th>\n",
              "      <th>55+</th>\n",
              "      <th>All</th>\n",
              "    </tr>\n",
              "    <tr>\n",
              "      <th>Gender</th>\n",
              "      <th></th>\n",
              "      <th></th>\n",
              "      <th></th>\n",
              "      <th></th>\n",
              "      <th></th>\n",
              "      <th></th>\n",
              "      <th></th>\n",
              "      <th></th>\n",
              "    </tr>\n",
              "  </thead>\n",
              "  <tbody>\n",
              "    <tr>\n",
              "      <th>F</th>\n",
              "      <td>0.009241</td>\n",
              "      <td>0.044773</td>\n",
              "      <td>0.092265</td>\n",
              "      <td>0.049394</td>\n",
              "      <td>0.023995</td>\n",
              "      <td>0.017987</td>\n",
              "      <td>0.009241</td>\n",
              "      <td>0.246895</td>\n",
              "    </tr>\n",
              "    <tr>\n",
              "      <th>M</th>\n",
              "      <td>0.018214</td>\n",
              "      <td>0.136405</td>\n",
              "      <td>0.306935</td>\n",
              "      <td>0.150605</td>\n",
              "      <td>0.059087</td>\n",
              "      <td>0.052006</td>\n",
              "      <td>0.029853</td>\n",
              "      <td>0.753105</td>\n",
              "    </tr>\n",
              "    <tr>\n",
              "      <th>All</th>\n",
              "      <td>0.027455</td>\n",
              "      <td>0.181178</td>\n",
              "      <td>0.399200</td>\n",
              "      <td>0.199999</td>\n",
              "      <td>0.083082</td>\n",
              "      <td>0.069993</td>\n",
              "      <td>0.039093</td>\n",
              "      <td>1.000000</td>\n",
              "    </tr>\n",
              "  </tbody>\n",
              "</table>\n",
              "</div>\n",
              "    <div class=\"colab-df-buttons\">\n",
              "\n",
              "  <div class=\"colab-df-container\">\n",
              "    <button class=\"colab-df-convert\" onclick=\"convertToInteractive('df-cd84ec4e-06db-460d-8a56-b0cf09294694')\"\n",
              "            title=\"Convert this dataframe to an interactive table.\"\n",
              "            style=\"display:none;\">\n",
              "\n",
              "  <svg xmlns=\"http://www.w3.org/2000/svg\" height=\"24px\" viewBox=\"0 -960 960 960\">\n",
              "    <path d=\"M120-120v-720h720v720H120Zm60-500h600v-160H180v160Zm220 220h160v-160H400v160Zm0 220h160v-160H400v160ZM180-400h160v-160H180v160Zm440 0h160v-160H620v160ZM180-180h160v-160H180v160Zm440 0h160v-160H620v160Z\"/>\n",
              "  </svg>\n",
              "    </button>\n",
              "\n",
              "  <style>\n",
              "    .colab-df-container {\n",
              "      display:flex;\n",
              "      gap: 12px;\n",
              "    }\n",
              "\n",
              "    .colab-df-convert {\n",
              "      background-color: #E8F0FE;\n",
              "      border: none;\n",
              "      border-radius: 50%;\n",
              "      cursor: pointer;\n",
              "      display: none;\n",
              "      fill: #1967D2;\n",
              "      height: 32px;\n",
              "      padding: 0 0 0 0;\n",
              "      width: 32px;\n",
              "    }\n",
              "\n",
              "    .colab-df-convert:hover {\n",
              "      background-color: #E2EBFA;\n",
              "      box-shadow: 0px 1px 2px rgba(60, 64, 67, 0.3), 0px 1px 3px 1px rgba(60, 64, 67, 0.15);\n",
              "      fill: #174EA6;\n",
              "    }\n",
              "\n",
              "    .colab-df-buttons div {\n",
              "      margin-bottom: 4px;\n",
              "    }\n",
              "\n",
              "    [theme=dark] .colab-df-convert {\n",
              "      background-color: #3B4455;\n",
              "      fill: #D2E3FC;\n",
              "    }\n",
              "\n",
              "    [theme=dark] .colab-df-convert:hover {\n",
              "      background-color: #434B5C;\n",
              "      box-shadow: 0px 1px 3px 1px rgba(0, 0, 0, 0.15);\n",
              "      filter: drop-shadow(0px 1px 2px rgba(0, 0, 0, 0.3));\n",
              "      fill: #FFFFFF;\n",
              "    }\n",
              "  </style>\n",
              "\n",
              "    <script>\n",
              "      const buttonEl =\n",
              "        document.querySelector('#df-cd84ec4e-06db-460d-8a56-b0cf09294694 button.colab-df-convert');\n",
              "      buttonEl.style.display =\n",
              "        google.colab.kernel.accessAllowed ? 'block' : 'none';\n",
              "\n",
              "      async function convertToInteractive(key) {\n",
              "        const element = document.querySelector('#df-cd84ec4e-06db-460d-8a56-b0cf09294694');\n",
              "        const dataTable =\n",
              "          await google.colab.kernel.invokeFunction('convertToInteractive',\n",
              "                                                    [key], {});\n",
              "        if (!dataTable) return;\n",
              "\n",
              "        const docLinkHtml = 'Like what you see? Visit the ' +\n",
              "          '<a target=\"_blank\" href=https://colab.research.google.com/notebooks/data_table.ipynb>data table notebook</a>'\n",
              "          + ' to learn more about interactive tables.';\n",
              "        element.innerHTML = '';\n",
              "        dataTable['output_type'] = 'display_data';\n",
              "        await google.colab.output.renderOutput(dataTable, element);\n",
              "        const docLink = document.createElement('div');\n",
              "        docLink.innerHTML = docLinkHtml;\n",
              "        element.appendChild(docLink);\n",
              "      }\n",
              "    </script>\n",
              "  </div>\n",
              "\n",
              "\n",
              "<div id=\"df-185c5383-cb8e-4920-8f63-ca62cbe06f84\">\n",
              "  <button class=\"colab-df-quickchart\" onclick=\"quickchart('df-185c5383-cb8e-4920-8f63-ca62cbe06f84')\"\n",
              "            title=\"Suggest charts\"\n",
              "            style=\"display:none;\">\n",
              "\n",
              "<svg xmlns=\"http://www.w3.org/2000/svg\" height=\"24px\"viewBox=\"0 0 24 24\"\n",
              "     width=\"24px\">\n",
              "    <g>\n",
              "        <path d=\"M19 3H5c-1.1 0-2 .9-2 2v14c0 1.1.9 2 2 2h14c1.1 0 2-.9 2-2V5c0-1.1-.9-2-2-2zM9 17H7v-7h2v7zm4 0h-2V7h2v10zm4 0h-2v-4h2v4z\"/>\n",
              "    </g>\n",
              "</svg>\n",
              "  </button>\n",
              "\n",
              "<style>\n",
              "  .colab-df-quickchart {\n",
              "      --bg-color: #E8F0FE;\n",
              "      --fill-color: #1967D2;\n",
              "      --hover-bg-color: #E2EBFA;\n",
              "      --hover-fill-color: #174EA6;\n",
              "      --disabled-fill-color: #AAA;\n",
              "      --disabled-bg-color: #DDD;\n",
              "  }\n",
              "\n",
              "  [theme=dark] .colab-df-quickchart {\n",
              "      --bg-color: #3B4455;\n",
              "      --fill-color: #D2E3FC;\n",
              "      --hover-bg-color: #434B5C;\n",
              "      --hover-fill-color: #FFFFFF;\n",
              "      --disabled-bg-color: #3B4455;\n",
              "      --disabled-fill-color: #666;\n",
              "  }\n",
              "\n",
              "  .colab-df-quickchart {\n",
              "    background-color: var(--bg-color);\n",
              "    border: none;\n",
              "    border-radius: 50%;\n",
              "    cursor: pointer;\n",
              "    display: none;\n",
              "    fill: var(--fill-color);\n",
              "    height: 32px;\n",
              "    padding: 0;\n",
              "    width: 32px;\n",
              "  }\n",
              "\n",
              "  .colab-df-quickchart:hover {\n",
              "    background-color: var(--hover-bg-color);\n",
              "    box-shadow: 0 1px 2px rgba(60, 64, 67, 0.3), 0 1px 3px 1px rgba(60, 64, 67, 0.15);\n",
              "    fill: var(--button-hover-fill-color);\n",
              "  }\n",
              "\n",
              "  .colab-df-quickchart-complete:disabled,\n",
              "  .colab-df-quickchart-complete:disabled:hover {\n",
              "    background-color: var(--disabled-bg-color);\n",
              "    fill: var(--disabled-fill-color);\n",
              "    box-shadow: none;\n",
              "  }\n",
              "\n",
              "  .colab-df-spinner {\n",
              "    border: 2px solid var(--fill-color);\n",
              "    border-color: transparent;\n",
              "    border-bottom-color: var(--fill-color);\n",
              "    animation:\n",
              "      spin 1s steps(1) infinite;\n",
              "  }\n",
              "\n",
              "  @keyframes spin {\n",
              "    0% {\n",
              "      border-color: transparent;\n",
              "      border-bottom-color: var(--fill-color);\n",
              "      border-left-color: var(--fill-color);\n",
              "    }\n",
              "    20% {\n",
              "      border-color: transparent;\n",
              "      border-left-color: var(--fill-color);\n",
              "      border-top-color: var(--fill-color);\n",
              "    }\n",
              "    30% {\n",
              "      border-color: transparent;\n",
              "      border-left-color: var(--fill-color);\n",
              "      border-top-color: var(--fill-color);\n",
              "      border-right-color: var(--fill-color);\n",
              "    }\n",
              "    40% {\n",
              "      border-color: transparent;\n",
              "      border-right-color: var(--fill-color);\n",
              "      border-top-color: var(--fill-color);\n",
              "    }\n",
              "    60% {\n",
              "      border-color: transparent;\n",
              "      border-right-color: var(--fill-color);\n",
              "    }\n",
              "    80% {\n",
              "      border-color: transparent;\n",
              "      border-right-color: var(--fill-color);\n",
              "      border-bottom-color: var(--fill-color);\n",
              "    }\n",
              "    90% {\n",
              "      border-color: transparent;\n",
              "      border-bottom-color: var(--fill-color);\n",
              "    }\n",
              "  }\n",
              "</style>\n",
              "\n",
              "  <script>\n",
              "    async function quickchart(key) {\n",
              "      const quickchartButtonEl =\n",
              "        document.querySelector('#' + key + ' button');\n",
              "      quickchartButtonEl.disabled = true;  // To prevent multiple clicks.\n",
              "      quickchartButtonEl.classList.add('colab-df-spinner');\n",
              "      try {\n",
              "        const charts = await google.colab.kernel.invokeFunction(\n",
              "            'suggestCharts', [key], {});\n",
              "      } catch (error) {\n",
              "        console.error('Error during call to suggestCharts:', error);\n",
              "      }\n",
              "      quickchartButtonEl.classList.remove('colab-df-spinner');\n",
              "      quickchartButtonEl.classList.add('colab-df-quickchart-complete');\n",
              "    }\n",
              "    (() => {\n",
              "      let quickchartButtonEl =\n",
              "        document.querySelector('#df-185c5383-cb8e-4920-8f63-ca62cbe06f84 button');\n",
              "      quickchartButtonEl.style.display =\n",
              "        google.colab.kernel.accessAllowed ? 'block' : 'none';\n",
              "    })();\n",
              "  </script>\n",
              "</div>\n",
              "\n",
              "    </div>\n",
              "  </div>\n"
            ],
            "application/vnd.google.colaboratory.intrinsic+json": {
              "type": "dataframe",
              "summary": "{\n  \"name\": \"pd\",\n  \"rows\": 3,\n  \"fields\": [\n    {\n      \"column\": \"Gender\",\n      \"properties\": {\n        \"dtype\": \"string\",\n        \"num_unique_values\": 3,\n        \"samples\": [\n          \"F\",\n          \"M\",\n          \"All\"\n        ],\n        \"semantic_type\": \"\",\n        \"description\": \"\"\n      }\n    },\n    {\n      \"column\": \"0-17\",\n      \"properties\": {\n        \"dtype\": \"number\",\n        \"std\": 0.00910738259684651,\n        \"min\": 0.009240675698277304,\n        \"max\": 0.027454787408102272,\n        \"num_unique_values\": 3,\n        \"samples\": [\n          0.009240675698277304,\n          0.018214111709824968,\n          0.027454787408102272\n        ],\n        \"semantic_type\": \"\",\n        \"description\": \"\"\n      }\n    },\n    {\n      \"column\": \"18-25\",\n      \"properties\": {\n        \"dtype\": \"number\",\n        \"std\": 0.06953102539073398,\n        \"min\": 0.04477264629100402,\n        \"max\": 0.1811775998603809,\n        \"num_unique_values\": 3,\n        \"samples\": [\n          0.04477264629100402,\n          0.13640495356937687,\n          0.1811775998603809\n        ],\n        \"semantic_type\": \"\",\n        \"description\": \"\"\n      }\n    },\n    {\n      \"column\": \"26-35\",\n      \"properties\": {\n        \"dtype\": \"number\",\n        \"std\": 0.15748275750193327,\n        \"min\": 0.0922649563326716,\n        \"max\": 0.39919973530545316,\n        \"num_unique_values\": 3,\n        \"samples\": [\n          0.0922649563326716,\n          0.30693477897278154,\n          0.39919973530545316\n        ],\n        \"semantic_type\": \"\",\n        \"description\": \"\"\n      }\n    },\n    {\n      \"column\": \"36-45\",\n      \"properties\": {\n        \"dtype\": \"number\",\n        \"std\": 0.07677382254672639,\n        \"min\": 0.049393893118668965,\n        \"max\": 0.19999890922576846,\n        \"num_unique_values\": 3,\n        \"samples\": [\n          0.049393893118668965,\n          0.15060501610709948,\n          0.19999890922576846\n        ],\n        \"semantic_type\": \"\",\n        \"description\": \"\"\n      }\n    },\n    {\n      \"column\": \"46-50\",\n      \"properties\": {\n        \"dtype\": \"number\",\n        \"std\": 0.029716781208739607,\n        \"min\": 0.023995215137037604,\n        \"max\": 0.08308245526007693,\n        \"num_unique_values\": 3,\n        \"samples\": [\n          0.023995215137037604,\n          0.059087240123039335,\n          0.08308245526007693\n        ],\n        \"semantic_type\": \"\",\n        \"description\": \"\"\n      }\n    },\n    {\n      \"column\": \"51-55\",\n      \"properties\": {\n        \"dtype\": \"number\",\n        \"std\": 0.026411815526767454,\n        \"min\": 0.017986867078252144,\n        \"max\": 0.0699931644814823,\n        \"num_unique_values\": 3,\n        \"samples\": [\n          0.017986867078252144,\n          0.052006297403230144,\n          0.0699931644814823\n        ],\n        \"semantic_type\": \"\",\n        \"description\": \"\"\n      }\n    },\n    {\n      \"column\": \"55+\",\n      \"properties\": {\n        \"dtype\": \"number\",\n        \"std\": 0.015283032973394279,\n        \"min\": 0.009240675698277304,\n        \"max\": 0.03909334845873601,\n        \"num_unique_values\": 3,\n        \"samples\": [\n          0.009240675698277304,\n          0.029852672760458707,\n          0.03909334845873601\n        ],\n        \"semantic_type\": \"\",\n        \"description\": \"\"\n      }\n    },\n    {\n      \"column\": \"All\",\n      \"properties\": {\n        \"dtype\": \"number\",\n        \"std\": 0.3839212290561103,\n        \"min\": 0.24689492935418894,\n        \"max\": 1.0,\n        \"num_unique_values\": 3,\n        \"samples\": [\n          0.24689492935418894,\n          0.7531050706458111,\n          1.0\n        ],\n        \"semantic_type\": \"\",\n        \"description\": \"\"\n      }\n    }\n  ]\n}"
            }
          },
          "metadata": {},
          "execution_count": 31
        }
      ]
    },
    {
      "cell_type": "code",
      "source": [
        "#insight\n",
        "#p(male|purchased) = 0.75\n",
        "#p(18-45 age purchased|male) = 0.58\n",
        "#More than half of the purchases are done by males between the age 18-45 years\n",
        "#The most obvious reason is they have more purchasing power as they are working adults"
      ],
      "metadata": {
        "id": "MUXpNtUEiQvm"
      },
      "execution_count": null,
      "outputs": []
    },
    {
      "cell_type": "markdown",
      "source": [
        "**<font color='blue'>1.2 Non-Graphical Analysis: Value counts and unique attributes**"
      ],
      "metadata": {
        "id": "SzfaO6E5jZQx"
      }
    },
    {
      "cell_type": "code",
      "source": [
        "print('All features with number of unique items')\n",
        "for i in df.columns:\n",
        "  print(f'{i}:{df[i].nunique()}')"
      ],
      "metadata": {
        "id": "csGLjZ33shqO",
        "colab": {
          "base_uri": "https://localhost:8080/"
        },
        "outputId": "154893f0-ab79-421a-8ee1-bcf5c71346ff"
      },
      "execution_count": null,
      "outputs": [
        {
          "output_type": "stream",
          "name": "stdout",
          "text": [
            "All features with number of unique items\n",
            "User_ID:5891\n",
            "Product_ID:3631\n",
            "Gender:2\n",
            "Age:7\n",
            "Occupation:21\n",
            "City_Category:3\n",
            "Stay_In_Current_City_Years:5\n",
            "Marital_Status:2\n",
            "Product_Category:20\n",
            "Purchase:18105\n"
          ]
        }
      ]
    },
    {
      "cell_type": "code",
      "source": [
        "print(df.Age.value_counts())\n",
        "print('Most of the purchasing age of the users are between 26-45') #insight"
      ],
      "metadata": {
        "colab": {
          "base_uri": "https://localhost:8080/"
        },
        "id": "VfulvVxvwX0L",
        "outputId": "630d999c-fb7b-49f4-a643-e106bd6a4707"
      },
      "execution_count": null,
      "outputs": [
        {
          "output_type": "stream",
          "name": "stdout",
          "text": [
            "Age\n",
            "26-35    219587\n",
            "36-45    110013\n",
            "18-25     99660\n",
            "46-50     45701\n",
            "51-55     38501\n",
            "55+       21504\n",
            "0-17      15102\n",
            "Name: count, dtype: int64\n",
            "Most of the purchasing age of the users are between 26-45\n"
          ]
        }
      ]
    },
    {
      "cell_type": "code",
      "source": [
        "print('Top 5 users with most accumulated purchases')\n",
        "print(df.groupby(['User_ID'])['Purchase'].sum().sort_values(ascending=False).head(5))\n",
        "print('----------------------------------------------')\n",
        "print('Top 5 User_ID with most products purchased')\n",
        "print(df.groupby(['User_ID'])['Product_ID'].nunique().sort_values(ascending=False).head(5))\n",
        "print('----------------------------------------------')\n",
        "print('Top 5 purchased product')\n",
        "print(df.Product_ID.value_counts().sort_values(ascending=False).head(5))\n",
        "print('----------------------------------------------')\n",
        "print('The Number of unique users by gender')\n",
        "print(df.groupby('Gender')['User_ID'].nunique())"
      ],
      "metadata": {
        "colab": {
          "base_uri": "https://localhost:8080/"
        },
        "id": "h4XMMygQOhzz",
        "outputId": "3ce30f87-5282-4259-d18b-ce6df84ab27d"
      },
      "execution_count": null,
      "outputs": [
        {
          "output_type": "stream",
          "name": "stdout",
          "text": [
            "Top 5 users with most accumulated purchases\n",
            "User_ID\n",
            "1004277    10536909\n",
            "1001680     8699596\n",
            "1002909     7577756\n",
            "1001941     6817493\n",
            "1000424     6573609\n",
            "Name: Purchase, dtype: int64\n",
            "----------------------------------------------\n",
            "Top 5 User_ID with most products purchased\n",
            "User_ID\n",
            "1001680    1026\n",
            "1004277     979\n",
            "1001941     898\n",
            "1001181     862\n",
            "1000889     823\n",
            "Name: Product_ID, dtype: int64\n",
            "----------------------------------------------\n",
            "Top 5 purchased product\n",
            "Product_ID\n",
            "P00265242    1880\n",
            "P00025442    1615\n",
            "P00110742    1612\n",
            "P00112142    1562\n",
            "P00057642    1470\n",
            "Name: count, dtype: int64\n",
            "----------------------------------------------\n",
            "The Number of unique users by gender\n",
            "Gender\n",
            "F    1666\n",
            "M    4225\n",
            "Name: User_ID, dtype: int64\n"
          ]
        }
      ]
    },
    {
      "cell_type": "markdown",
      "source": [
        "**<font color='blue'>1.3 Visual Analysis - Univariate & Bivariate**"
      ],
      "metadata": {
        "id": "fIroCEH0klUs"
      }
    },
    {
      "cell_type": "markdown",
      "source": [
        "**<font color='black'>1.3.1 For continuous variable(s): Distplot, countplot, histogram for univariate analysis**"
      ],
      "metadata": {
        "id": "shNZu-zrrF3Q"
      }
    },
    {
      "cell_type": "code",
      "source": [
        "cols = ['Gender','Age','City_Category','Marital_Status']\n",
        "plt.figure(figsize=(12,6))\n",
        "for i in range(len(cols)):\n",
        "  plt.subplot(2,2,i+1)\n",
        "  sns.countplot(x=df[cols[i]])"
      ],
      "metadata": {
        "colab": {
          "base_uri": "https://localhost:8080/",
          "height": 542
        },
        "id": "dvlIqUjPk6ZZ",
        "outputId": "43a8ec22-4192-4643-86c4-449f632ee243"
      },
      "execution_count": null,
      "outputs": [
        {
          "output_type": "display_data",
          "data": {
            "text/plain": [
              "<Figure size 1200x600 with 4 Axes>"
            ],
            "image/png": "[encoded data removed]"
          },
          "metadata": {}
        }
      ]
    },
    {
      "cell_type": "markdown",
      "source": [
        "**<font color='black'>1.3.2 For categorical variable(s): Boxplot**"
      ],
      "metadata": {
        "id": "BORXfiuUr8BG"
      }
    },
    {
      "cell_type": "code",
      "source": [
        "plt.figure(figsize=(14,3))\n",
        "sns.boxplot(x=df.Purchase)\n",
        "plt.show()"
      ],
      "metadata": {
        "colab": {
          "base_uri": "https://localhost:8080/",
          "height": 311
        },
        "id": "oaycvrbrpq8M",
        "outputId": "48673780-3992-4c8c-dd9c-7defed809fde"
      },
      "execution_count": null,
      "outputs": [
        {
          "output_type": "display_data",
          "data": {
            "text/plain": [
              "<Figure size 1400x300 with 1 Axes>"
            ],
            "image/png": "[encoded data removed]"
          },
          "metadata": {}
        }
      ]
    },
    {
      "cell_type": "markdown",
      "source": [
        "**<font color='black'>1.3.3 For correlation: Heatmaps, Pairplots**"
      ],
      "metadata": {
        "id": "U5mrWfqSsBbM"
      }
    },
    {
      "cell_type": "code",
      "source": [
        "sns.pairplot(data=df[['Occupation','Purchase']])\n",
        "plt.show()"
      ],
      "metadata": {
        "colab": {
          "base_uri": "https://localhost:8080/",
          "height": 513
        },
        "id": "zKEsbx_c3b-j",
        "outputId": "7d767af3-4dfd-4246-c016-cce3a4fd7ea6"
      },
      "execution_count": null,
      "outputs": [
        {
          "output_type": "display_data",
          "data": {
            "text/plain": [
              "<Figure size 500x500 with 6 Axes>"
            ],
            "image/png": "[encoded data removed]"
          },
          "metadata": {}
        }
      ]
    },
    {
      "cell_type": "markdown",
      "source": [
        "As the purchase column is continuous and occupation is discrete so there is actually no relationship between these attributes"
      ],
      "metadata": {
        "id": "dmsXpQOOAdUX"
      }
    },
    {
      "cell_type": "code",
      "source": [
        "sns.heatmap(df[['Occupation','Purchase']].corr(),cmap='viridis',annot=True)\n",
        "plt.show()"
      ],
      "metadata": {
        "colab": {
          "base_uri": "https://localhost:8080/",
          "height": 435
        },
        "id": "JsEyXzxmuFBj",
        "outputId": "588c1ad1-f82a-4731-c6fd-fe46ff2e0a29"
      },
      "execution_count": null,
      "outputs": [
        {
          "output_type": "display_data",
          "data": {
            "text/plain": [
              "<Figure size 640x480 with 2 Axes>"
            ],
            "image/png": "[encoded data removed]"
          },
          "metadata": {}
        }
      ]
    },
    {
      "cell_type": "code",
      "source": [
        "#insight\n",
        "#No common relation between columns of wallmart data"
      ],
      "metadata": {
        "id": "vvb9tj27uh8V"
      },
      "execution_count": null,
      "outputs": []
    },
    {
      "cell_type": "markdown",
      "source": [
        "#<font color='purple'>2. Missing Value & Outlier Detection (10 Points)"
      ],
      "metadata": {
        "id": "LWZKrqcOu8rR"
      }
    },
    {
      "cell_type": "code",
      "source": [
        "#Total number of nulls\n",
        "print(f'Total number of nulls present in df are {df.isna().sum().sum()}')"
      ],
      "metadata": {
        "colab": {
          "base_uri": "https://localhost:8080/"
        },
        "id": "T8VZ-vCAu5GJ",
        "outputId": "94b67ff8-c95d-4016-8bc5-5e499046f239"
      },
      "execution_count": null,
      "outputs": [
        {
          "output_type": "stream",
          "name": "stdout",
          "text": [
            "Total number of nulls present in df are 0\n"
          ]
        }
      ]
    },
    {
      "cell_type": "code",
      "source": [
        "def iqr(col): #small function for outlier detection\n",
        "  Q1, Q2, Q3 = np.percentile(df[col],25), np.percentile(df[col],50), np.percentile(df[col],75)\n",
        "  iqr = Q3 - Q1\n",
        "  upper, lower = Q3 + 1.5 * iqr, Q3 - 1.5 * iqr\n",
        "  outliers = len(df[col][df[col]> upper]) + len(df[col][df[col]< lower])\n",
        "  print(f'Total number of outliers ({len(df[col][df[col]> upper])} + {len(df[col][df[col]< lower])}) for {col} is {outliers}')\n",
        "\n",
        "iqr('Purchase')"
      ],
      "metadata": {
        "colab": {
          "base_uri": "https://localhost:8080/"
        },
        "id": "uldE0iWJRs_6",
        "outputId": "23f19dd6-c72a-4a60-b0d7-1f7e5a869537"
      },
      "execution_count": null,
      "outputs": [
        {
          "output_type": "stream",
          "name": "stdout",
          "text": [
            "Total number of outliers (2677 + 36971) for Purchase is 39648\n"
          ]
        }
      ]
    },
    {
      "cell_type": "markdown",
      "source": [
        "Lets work on the outliers to remove them on a copy data"
      ],
      "metadata": {
        "id": "ZkWm48nOWuYx"
      }
    },
    {
      "cell_type": "code",
      "source": [
        "#re-run\n",
        "df_copy = df.copy()"
      ],
      "metadata": {
        "id": "JmAZAqkMXAhs"
      },
      "execution_count": null,
      "outputs": []
    },
    {
      "cell_type": "code",
      "source": [
        "#re-run\n",
        "#To remove outliers we are replacing the values below 5 percentile with\n",
        "#5th percentile value and vice versa with 95 percentile and above\n",
        "col = ['Purchase']\n",
        "percentiles = df[col].quantile([0.05,0.95]).values\n",
        "df_copy[col] = np.clip(df_copy[col],percentiles[0],percentiles[1])"
      ],
      "metadata": {
        "id": "kX7N5KsMxhS8"
      },
      "execution_count": null,
      "outputs": []
    },
    {
      "cell_type": "code",
      "source": [
        "print(f'Maximum purchase amount before treating the outliers: {df.Purchase.max()}\\n'\n",
        "      f'Maximum purchase amount after treating the outliers: { df_copy.Purchase.max()}')"
      ],
      "metadata": {
        "colab": {
          "base_uri": "https://localhost:8080/"
        },
        "id": "W-OIa7n0ynJi",
        "outputId": "5a26390e-d552-4498-ddb8-be6a294940d4"
      },
      "execution_count": null,
      "outputs": [
        {
          "output_type": "stream",
          "name": "stdout",
          "text": [
            "Maximum purchase amount before treating the outliers: 23961\n",
            "Maximum purchase amount after treating the outliers: 19336\n"
          ]
        }
      ]
    },
    {
      "cell_type": "code",
      "source": [
        "plt.figure(figsize=(14,3))\n",
        "sns.boxplot(x=df_copy.Purchase)\n",
        "plt.show()"
      ],
      "metadata": {
        "colab": {
          "base_uri": "https://localhost:8080/",
          "height": 311
        },
        "id": "GvCOhwSlfg6u",
        "outputId": "dc7f12cd-878b-4611-bc25-8ca6dcbc4975"
      },
      "execution_count": null,
      "outputs": [
        {
          "output_type": "display_data",
          "data": {
            "text/plain": [
              "<Figure size 1400x300 with 1 Axes>"
            ],
            "image/png": "[encoded data removed]"
          },
          "metadata": {}
        }
      ]
    },
    {
      "cell_type": "markdown",
      "source": [
        "*After using np.clip function now the data is free from outliers*"
      ],
      "metadata": {
        "id": "JWG097oBf5FK"
      }
    },
    {
      "cell_type": "markdown",
      "source": [
        "#<font color='purple'>3. Business Insights based on Non- Graphical and Visual Analysis (10 Points)\n"
      ],
      "metadata": {
        "id": "aXRSfgcAvoRo"
      }
    },
    {
      "cell_type": "markdown",
      "source": [
        "**<font color='blue'>3.1 Comments on the range of attributes**"
      ],
      "metadata": {
        "id": "L4jxJdNyvt0i"
      }
    },
    {
      "cell_type": "code",
      "source": [
        "print(f'Min and max age groups of users:{min(df_copy.Age),max(df_copy.Age)}\\n'\n",
        "      f'Min and max Purchase:{min(df_copy.Purchase),max(df_copy.Purchase)}\\n'\n",
        "      f'Min and max Occupation:{min(df_copy.Occupation),max(df_copy.Occupation)}\\n'\n",
        "      f'----------------------------------------------------------')\n",
        "df.groupby('Gender')['Purchase'].agg(['min','max'])"
      ],
      "metadata": {
        "colab": {
          "base_uri": "https://localhost:8080/",
          "height": 213
        },
        "id": "GXqB1olrvy0u",
        "outputId": "aa04ebff-f04e-44a9-953b-f07139ae77c2"
      },
      "execution_count": null,
      "outputs": [
        {
          "output_type": "stream",
          "name": "stdout",
          "text": [
            "Min and max age groups of users:('0-17', '55+')\n",
            "Min and max Purchase:(1984, 19336)\n",
            "Min and max Occupation:(0, 20)\n",
            "----------------------------------------------------------\n"
          ]
        },
        {
          "output_type": "execute_result",
          "data": {
            "text/plain": [
              "        min    max\n",
              "Gender            \n",
              "F        12  23959\n",
              "M        12  23961"
            ],
            "text/html": [
              "\n",
              "  <div id=\"df-854ab132-10ef-4abb-9772-99551315e946\" class=\"colab-df-container\">\n",
              "    <div>\n",
              "<style scoped>\n",
              "    .dataframe tbody tr th:only-of-type {\n",
              "        vertical-align: middle;\n",
              "    }\n",
              "\n",
              "    .dataframe tbody tr th {\n",
              "        vertical-align: top;\n",
              "    }\n",
              "\n",
              "    .dataframe thead th {\n",
              "        text-align: right;\n",
              "    }\n",
              "</style>\n",
              "<table border=\"1\" class=\"dataframe\">\n",
              "  <thead>\n",
              "    <tr style=\"text-align: right;\">\n",
              "      <th></th>\n",
              "      <th>min</th>\n",
              "      <th>max</th>\n",
              "    </tr>\n",
              "    <tr>\n",
              "      <th>Gender</th>\n",
              "      <th></th>\n",
              "      <th></th>\n",
              "    </tr>\n",
              "  </thead>\n",
              "  <tbody>\n",
              "    <tr>\n",
              "      <th>F</th>\n",
              "      <td>12</td>\n",
              "      <td>23959</td>\n",
              "    </tr>\n",
              "    <tr>\n",
              "      <th>M</th>\n",
              "      <td>12</td>\n",
              "      <td>23961</td>\n",
              "    </tr>\n",
              "  </tbody>\n",
              "</table>\n",
              "</div>\n",
              "    <div class=\"colab-df-buttons\">\n",
              "\n",
              "  <div class=\"colab-df-container\">\n",
              "    <button class=\"colab-df-convert\" onclick=\"convertToInteractive('df-854ab132-10ef-4abb-9772-99551315e946')\"\n",
              "            title=\"Convert this dataframe to an interactive table.\"\n",
              "            style=\"display:none;\">\n",
              "\n",
              "  <svg xmlns=\"http://www.w3.org/2000/svg\" height=\"24px\" viewBox=\"0 -960 960 960\">\n",
              "    <path d=\"M120-120v-720h720v720H120Zm60-500h600v-160H180v160Zm220 220h160v-160H400v160Zm0 220h160v-160H400v160ZM180-400h160v-160H180v160Zm440 0h160v-160H620v160ZM180-180h160v-160H180v160Zm440 0h160v-160H620v160Z\"/>\n",
              "  </svg>\n",
              "    </button>\n",
              "\n",
              "  <style>\n",
              "    .colab-df-container {\n",
              "      display:flex;\n",
              "      gap: 12px;\n",
              "    }\n",
              "\n",
              "    .colab-df-convert {\n",
              "      background-color: #E8F0FE;\n",
              "      border: none;\n",
              "      border-radius: 50%;\n",
              "      cursor: pointer;\n",
              "      display: none;\n",
              "      fill: #1967D2;\n",
              "      height: 32px;\n",
              "      padding: 0 0 0 0;\n",
              "      width: 32px;\n",
              "    }\n",
              "\n",
              "    .colab-df-convert:hover {\n",
              "      background-color: #E2EBFA;\n",
              "      box-shadow: 0px 1px 2px rgba(60, 64, 67, 0.3), 0px 1px 3px 1px rgba(60, 64, 67, 0.15);\n",
              "      fill: #174EA6;\n",
              "    }\n",
              "\n",
              "    .colab-df-buttons div {\n",
              "      margin-bottom: 4px;\n",
              "    }\n",
              "\n",
              "    [theme=dark] .colab-df-convert {\n",
              "      background-color: #3B4455;\n",
              "      fill: #D2E3FC;\n",
              "    }\n",
              "\n",
              "    [theme=dark] .colab-df-convert:hover {\n",
              "      background-color: #434B5C;\n",
              "      box-shadow: 0px 1px 3px 1px rgba(0, 0, 0, 0.15);\n",
              "      filter: drop-shadow(0px 1px 2px rgba(0, 0, 0, 0.3));\n",
              "      fill: #FFFFFF;\n",
              "    }\n",
              "  </style>\n",
              "\n",
              "    <script>\n",
              "      const buttonEl =\n",
              "        document.querySelector('#df-854ab132-10ef-4abb-9772-99551315e946 button.colab-df-convert');\n",
              "      buttonEl.style.display =\n",
              "        google.colab.kernel.accessAllowed ? 'block' : 'none';\n",
              "\n",
              "      async function convertToInteractive(key) {\n",
              "        const element = document.querySelector('#df-854ab132-10ef-4abb-9772-99551315e946');\n",
              "        const dataTable =\n",
              "          await google.colab.kernel.invokeFunction('convertToInteractive',\n",
              "                                                    [key], {});\n",
              "        if (!dataTable) return;\n",
              "\n",
              "        const docLinkHtml = 'Like what you see? Visit the ' +\n",
              "          '<a target=\"_blank\" href=https://colab.research.google.com/notebooks/data_table.ipynb>data table notebook</a>'\n",
              "          + ' to learn more about interactive tables.';\n",
              "        element.innerHTML = '';\n",
              "        dataTable['output_type'] = 'display_data';\n",
              "        await google.colab.output.renderOutput(dataTable, element);\n",
              "        const docLink = document.createElement('div');\n",
              "        docLink.innerHTML = docLinkHtml;\n",
              "        element.appendChild(docLink);\n",
              "      }\n",
              "    </script>\n",
              "  </div>\n",
              "\n",
              "\n",
              "<div id=\"df-bb278c35-19cb-4117-aac4-dd376676f801\">\n",
              "  <button class=\"colab-df-quickchart\" onclick=\"quickchart('df-bb278c35-19cb-4117-aac4-dd376676f801')\"\n",
              "            title=\"Suggest charts\"\n",
              "            style=\"display:none;\">\n",
              "\n",
              "<svg xmlns=\"http://www.w3.org/2000/svg\" height=\"24px\"viewBox=\"0 0 24 24\"\n",
              "     width=\"24px\">\n",
              "    <g>\n",
              "        <path d=\"M19 3H5c-1.1 0-2 .9-2 2v14c0 1.1.9 2 2 2h14c1.1 0 2-.9 2-2V5c0-1.1-.9-2-2-2zM9 17H7v-7h2v7zm4 0h-2V7h2v10zm4 0h-2v-4h2v4z\"/>\n",
              "    </g>\n",
              "</svg>\n",
              "  </button>\n",
              "\n",
              "<style>\n",
              "  .colab-df-quickchart {\n",
              "      --bg-color: #E8F0FE;\n",
              "      --fill-color: #1967D2;\n",
              "      --hover-bg-color: #E2EBFA;\n",
              "      --hover-fill-color: #174EA6;\n",
              "      --disabled-fill-color: #AAA;\n",
              "      --disabled-bg-color: #DDD;\n",
              "  }\n",
              "\n",
              "  [theme=dark] .colab-df-quickchart {\n",
              "      --bg-color: #3B4455;\n",
              "      --fill-color: #D2E3FC;\n",
              "      --hover-bg-color: #434B5C;\n",
              "      --hover-fill-color: #FFFFFF;\n",
              "      --disabled-bg-color: #3B4455;\n",
              "      --disabled-fill-color: #666;\n",
              "  }\n",
              "\n",
              "  .colab-df-quickchart {\n",
              "    background-color: var(--bg-color);\n",
              "    border: none;\n",
              "    border-radius: 50%;\n",
              "    cursor: pointer;\n",
              "    display: none;\n",
              "    fill: var(--fill-color);\n",
              "    height: 32px;\n",
              "    padding: 0;\n",
              "    width: 32px;\n",
              "  }\n",
              "\n",
              "  .colab-df-quickchart:hover {\n",
              "    background-color: var(--hover-bg-color);\n",
              "    box-shadow: 0 1px 2px rgba(60, 64, 67, 0.3), 0 1px 3px 1px rgba(60, 64, 67, 0.15);\n",
              "    fill: var(--button-hover-fill-color);\n",
              "  }\n",
              "\n",
              "  .colab-df-quickchart-complete:disabled,\n",
              "  .colab-df-quickchart-complete:disabled:hover {\n",
              "    background-color: var(--disabled-bg-color);\n",
              "    fill: var(--disabled-fill-color);\n",
              "    box-shadow: none;\n",
              "  }\n",
              "\n",
              "  .colab-df-spinner {\n",
              "    border: 2px solid var(--fill-color);\n",
              "    border-color: transparent;\n",
              "    border-bottom-color: var(--fill-color);\n",
              "    animation:\n",
              "      spin 1s steps(1) infinite;\n",
              "  }\n",
              "\n",
              "  @keyframes spin {\n",
              "    0% {\n",
              "      border-color: transparent;\n",
              "      border-bottom-color: var(--fill-color);\n",
              "      border-left-color: var(--fill-color);\n",
              "    }\n",
              "    20% {\n",
              "      border-color: transparent;\n",
              "      border-left-color: var(--fill-color);\n",
              "      border-top-color: var(--fill-color);\n",
              "    }\n",
              "    30% {\n",
              "      border-color: transparent;\n",
              "      border-left-color: var(--fill-color);\n",
              "      border-top-color: var(--fill-color);\n",
              "      border-right-color: var(--fill-color);\n",
              "    }\n",
              "    40% {\n",
              "      border-color: transparent;\n",
              "      border-right-color: var(--fill-color);\n",
              "      border-top-color: var(--fill-color);\n",
              "    }\n",
              "    60% {\n",
              "      border-color: transparent;\n",
              "      border-right-color: var(--fill-color);\n",
              "    }\n",
              "    80% {\n",
              "      border-color: transparent;\n",
              "      border-right-color: var(--fill-color);\n",
              "      border-bottom-color: var(--fill-color);\n",
              "    }\n",
              "    90% {\n",
              "      border-color: transparent;\n",
              "      border-bottom-color: var(--fill-color);\n",
              "    }\n",
              "  }\n",
              "</style>\n",
              "\n",
              "  <script>\n",
              "    async function quickchart(key) {\n",
              "      const quickchartButtonEl =\n",
              "        document.querySelector('#' + key + ' button');\n",
              "      quickchartButtonEl.disabled = true;  // To prevent multiple clicks.\n",
              "      quickchartButtonEl.classList.add('colab-df-spinner');\n",
              "      try {\n",
              "        const charts = await google.colab.kernel.invokeFunction(\n",
              "            'suggestCharts', [key], {});\n",
              "      } catch (error) {\n",
              "        console.error('Error during call to suggestCharts:', error);\n",
              "      }\n",
              "      quickchartButtonEl.classList.remove('colab-df-spinner');\n",
              "      quickchartButtonEl.classList.add('colab-df-quickchart-complete');\n",
              "    }\n",
              "    (() => {\n",
              "      let quickchartButtonEl =\n",
              "        document.querySelector('#df-bb278c35-19cb-4117-aac4-dd376676f801 button');\n",
              "      quickchartButtonEl.style.display =\n",
              "        google.colab.kernel.accessAllowed ? 'block' : 'none';\n",
              "    })();\n",
              "  </script>\n",
              "</div>\n",
              "\n",
              "    </div>\n",
              "  </div>\n"
            ],
            "application/vnd.google.colaboratory.intrinsic+json": {
              "type": "dataframe",
              "summary": "{\n  \"name\": \"df\",\n  \"rows\": 2,\n  \"fields\": [\n    {\n      \"column\": \"Gender\",\n      \"properties\": {\n        \"dtype\": \"string\",\n        \"num_unique_values\": 2,\n        \"samples\": [\n          \"M\",\n          \"F\"\n        ],\n        \"semantic_type\": \"\",\n        \"description\": \"\"\n      }\n    },\n    {\n      \"column\": \"min\",\n      \"properties\": {\n        \"dtype\": \"number\",\n        \"std\": 0,\n        \"min\": 12,\n        \"max\": 12,\n        \"num_unique_values\": 1,\n        \"samples\": [\n          12\n        ],\n        \"semantic_type\": \"\",\n        \"description\": \"\"\n      }\n    },\n    {\n      \"column\": \"max\",\n      \"properties\": {\n        \"dtype\": \"number\",\n        \"std\": 1,\n        \"min\": 23959,\n        \"max\": 23961,\n        \"num_unique_values\": 2,\n        \"samples\": [\n          23961\n        ],\n        \"semantic_type\": \"\",\n        \"description\": \"\"\n      }\n    }\n  ]\n}"
            }
          },
          "metadata": {},
          "execution_count": 7
        }
      ]
    },
    {
      "cell_type": "markdown",
      "source": [
        "**<font color='blue'>3.2 Comments on the distribution of the variables and relationship between them**"
      ],
      "metadata": {
        "id": "5YnhljbvyTdX"
      }
    },
    {
      "cell_type": "markdown",
      "source": [
        "![image.png](data:image/png;base64,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)"
      ],
      "metadata": {
        "id": "tjr3XUk104Ld"
      }
    },
    {
      "cell_type": "markdown",
      "source": [
        "* Only purchase column has continuous numerical data to form a distribution and purchase attribute doesn't follow any particular distribution but by CLT method it follows normal distribution\n",
        "\n",
        "*   There are no vital/strong relationships between attributes\n",
        "*   All other attributes doesnot perform for correlation\n"
      ],
      "metadata": {
        "id": "e6vRdauv0NgN"
      }
    },
    {
      "cell_type": "markdown",
      "source": [
        "**<font color='blue'>3.3 Comments for each univariate and bivariate plot**"
      ],
      "metadata": {
        "id": "CZDMa1ds1GpL"
      }
    },
    {
      "cell_type": "markdown",
      "source": [
        "![image.png](data:image/png;base64,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)"
      ],
      "metadata": {
        "id": "4h6MDSLx1hBf"
      }
    },
    {
      "cell_type": "code",
      "source": [
        "df.groupby(['Marital_Status','Gender'])['Purchase'].sum()"
      ],
      "metadata": {
        "colab": {
          "base_uri": "https://localhost:8080/"
        },
        "id": "oa_SviPJ3kHA",
        "outputId": "0c7ca594-1702-4b5b-d60c-bb8afdc53ba7"
      },
      "execution_count": null,
      "outputs": [
        {
          "output_type": "execute_result",
          "data": {
            "text/plain": [
              "Marital_Status  Gender\n",
              "0               F          684154127\n",
              "                M         2324773320\n",
              "1               F          502078515\n",
              "                M         1584806780\n",
              "Name: Purchase, dtype: int64"
            ]
          },
          "metadata": {},
          "execution_count": 77
        }
      ]
    },
    {
      "cell_type": "code",
      "source": [
        "df.groupby('City_Category')['Purchase'].sum()"
      ],
      "metadata": {
        "colab": {
          "base_uri": "https://localhost:8080/"
        },
        "id": "OOv7HSke3H6-",
        "outputId": "a1c90b41-4231-4bbf-9480-ee348541431a"
      },
      "execution_count": null,
      "outputs": [
        {
          "output_type": "execute_result",
          "data": {
            "text/plain": [
              "City_Category\n",
              "A    1316471661\n",
              "B    2115533605\n",
              "C    1663807476\n",
              "Name: Purchase, dtype: int64"
            ]
          },
          "metadata": {},
          "execution_count": 73
        }
      ]
    },
    {
      "cell_type": "markdown",
      "source": [
        "\n",
        "\n",
        "*   Unanimously men dominate female on number of purchase made on black friday\n",
        "*   Maximum number of customers lie in age group of 26-35\n",
        "* Users of City B have done max purchases\n",
        "* Unmarried users bought more then married users\n",
        "* Unmarried women and men purchased more than married women and men\n"
      ],
      "metadata": {
        "id": "JbJ0FQRk1kMU"
      }
    },
    {
      "cell_type": "markdown",
      "source": [
        "#<font color='purple'>4. Answering questions (50 Points)\n"
      ],
      "metadata": {
        "id": "CCcJUOKh4Yaq"
      }
    },
    {
      "cell_type": "markdown",
      "source": [
        "#Q1.\n",
        "**<font color='red'>Are women spending more money per transaction than men? Why or Why not? (10 Points)**"
      ],
      "metadata": {
        "id": "tut4mp8w4bEZ"
      }
    },
    {
      "cell_type": "code",
      "source": [
        "#re-run\n",
        "#creating seperate datas for male and female gender\n",
        "df_female = df_copy[df_copy['Gender']=='F']\n",
        "df_male = df_copy[df_copy.Gender=='M']"
      ],
      "metadata": {
        "id": "S-BmU24P29Tv"
      },
      "execution_count": null,
      "outputs": []
    },
    {
      "cell_type": "code",
      "source": [
        "print(f'Number of female orders are {df_female.Gender.count()}\\n'\n",
        "f'Number of male orders are {df_male.Gender.count()}\\n'\n",
        "f'Men:{round(df_male.Gender.count()*100/df.Gender.count(),2)}%, Women:{round (df_female.Gender.count()*100/df.Gender.count(),2)}%')"
      ],
      "metadata": {
        "colab": {
          "base_uri": "https://localhost:8080/"
        },
        "id": "ajb9UJYjT0ks",
        "outputId": "0dd0cef4-d988-410c-cc90-5fb24a8d1ff0"
      },
      "execution_count": null,
      "outputs": [
        {
          "output_type": "stream",
          "name": "stdout",
          "text": [
            "Number of female orders are 135809\n",
            "Number of male orders are 414259\n",
            "Men:75.31%, Women:24.69%\n"
          ]
        }
      ]
    },
    {
      "cell_type": "code",
      "source": [
        "#Average amount spent by men and women\n",
        "df[df['Gender']=='M']['Purchase'].sum()/4225,df[df['Gender']=='F']['Purchase'].sum()/1666"
      ],
      "metadata": {
        "colab": {
          "base_uri": "https://localhost:8080/"
        },
        "id": "RSkpyFCQIjdY",
        "outputId": "44c59cda-99c4-451a-b8aa-3a85bafe87fb"
      },
      "execution_count": null,
      "outputs": [
        {
          "output_type": "execute_result",
          "data": {
            "text/plain": [
              "(925344.4023668639, 712024.3949579832)"
            ]
          },
          "metadata": {},
          "execution_count": 10
        }
      ]
    },
    {
      "cell_type": "code",
      "source": [
        "df[df['Gender']=='M']['Purchase'].sum()"
      ],
      "metadata": {
        "colab": {
          "base_uri": "https://localhost:8080/"
        },
        "id": "T10B-RlZIK_C",
        "outputId": "c9b3f35d-9014-4eb8-da82-9f2213c7b782"
      },
      "execution_count": null,
      "outputs": [
        {
          "output_type": "execute_result",
          "data": {
            "text/plain": [
              "Gender\n",
              "F    1186232642\n",
              "M    3909580100\n",
              "Name: Purchase, dtype: int64"
            ]
          },
          "metadata": {},
          "execution_count": 7
        }
      ]
    },
    {
      "cell_type": "code",
      "source": [
        "df_male.User_ID.nunique(),df_female.User_ID.nunique()"
      ],
      "metadata": {
        "colab": {
          "base_uri": "https://localhost:8080/"
        },
        "id": "Cb0LJOqt_kmu",
        "outputId": "b1b5c5f3-9271-441e-f14a-ead683f5927b"
      },
      "execution_count": null,
      "outputs": [
        {
          "output_type": "execute_result",
          "data": {
            "text/plain": [
              "(4225, 1666)"
            ]
          },
          "metadata": {},
          "execution_count": 19
        }
      ]
    },
    {
      "cell_type": "code",
      "source": [
        "#Average amount spent by men and women per transaction\n",
        "df.groupby('Gender')['Purchase'].mean()"
      ],
      "metadata": {
        "colab": {
          "base_uri": "https://localhost:8080/"
        },
        "id": "v2-d4n9m3XDq",
        "outputId": "9bc52d91-5450-45e2-a9a8-9b8342606c2d"
      },
      "execution_count": null,
      "outputs": [
        {
          "output_type": "execute_result",
          "data": {
            "text/plain": [
              "Gender\n",
              "F    8734.565765\n",
              "M    9437.526040\n",
              "Name: Purchase, dtype: float64"
            ]
          },
          "metadata": {},
          "execution_count": 7
        }
      ]
    },
    {
      "cell_type": "code",
      "source": [
        "#To reduce the coding for every test creating a function\n",
        "def hypo_result():\n",
        "  if p_val < significance:\n",
        "    print('Reject H0, Conclusion:',Ha)\n",
        "  else:\n",
        "    print('Fail to reject H0, Conclusion:',H0)"
      ],
      "metadata": {
        "id": "39ZkQv1-GJrQ"
      },
      "execution_count": null,
      "outputs": []
    },
    {
      "cell_type": "code",
      "source": [
        "Case1 = 'Checking whether the average purchase made by men or women is same or not'\n",
        "#Here Numerical Vs Categorical (2 Categories)---->T-Test is to be performed\n",
        "H0 = 'Average purchase made by men and women on black friday is equal'\n",
        "Ha = 'Average purchase made by men and women on black friday is not equal'\n",
        "significance = 0.05 #default\n",
        "print(f'Case1:{Case1}')\n",
        "t_stat, p_val = stats.ttest_ind(df_female['Purchase'],df_male['Purchase'])\n",
        "print(f't_stat:{t_stat}\\n'f'p_val:{p_val}')\n",
        "hypo_result()"
      ],
      "metadata": {
        "colab": {
          "base_uri": "https://localhost:8080/"
        },
        "id": "3PwSxpuPIG6a",
        "outputId": "145cc9c0-8fea-421b-b1bd-6845dd9170f4"
      },
      "execution_count": null,
      "outputs": [
        {
          "output_type": "stream",
          "name": "stdout",
          "text": [
            "Case1:Checking whether the average purchase made by men or women is same or not\n",
            "t_stat:-45.574933432542736\n",
            "p_val:0.0\n",
            "Reject H0, Conclusion: Average purchase made by men and women on black friday is not equal\n"
          ]
        }
      ]
    },
    {
      "cell_type": "code",
      "source": [
        "#Lets check do women spend more on black friday\n",
        "H0 = 'Average purchase made by men and women on black friday is equal.'\n",
        "Ha = 'Average purchase made by women is greater than men on black friday.'\n",
        "significance = 0.05 #default\n",
        "\n",
        "t_stat, p_val = stats.ttest_ind(df_female['Purchase'],df_male['Purchase'],alternative='greater')\n",
        "print(f't_stat:{t_stat}\\n'\n",
        "      f'p_val:{p_val}')\n",
        "hypo_result()"
      ],
      "metadata": {
        "colab": {
          "base_uri": "https://localhost:8080/"
        },
        "id": "cSv-47SWKpVq",
        "outputId": "d550e0cf-fa36-4f26-f5b3-5cc35cb2fe14"
      },
      "execution_count": null,
      "outputs": [
        {
          "output_type": "stream",
          "name": "stdout",
          "text": [
            "t_stat:-45.574933432542736\n",
            "p_val:1.0\n",
            "Fail to reject H0, Conclusion: Average purchase made by men and women on black friday is equal.\n"
          ]
        }
      ]
    },
    {
      "cell_type": "code",
      "source": [
        "#Lets check do men spend more on black friday\n",
        "H0 = 'Average purchase made by men and women on black friday is equal.'\n",
        "Ha = 'Average purchase made by women is less than men on black friday.'\n",
        "significance = 0.05 #default\n",
        "\n",
        "t_stat, p_val = stats.ttest_ind(df_female['Purchase'],df_male['Purchase'],alternative='less')\n",
        "print(f't_stat:{t_stat}\\n'\n",
        "      f'p_val:{p_val}')\n",
        "hypo_result()"
      ],
      "metadata": {
        "colab": {
          "base_uri": "https://localhost:8080/"
        },
        "id": "Y618rq4KMSKP",
        "outputId": "bbceef38-f36c-43f6-d95b-7b01d89cec77"
      },
      "execution_count": null,
      "outputs": [
        {
          "output_type": "stream",
          "name": "stdout",
          "text": [
            "t_stat:-45.574933432542736\n",
            "p_val:0.0\n",
            "Reject H0, Conclusion: Average purchase made by women is less than men on black friday.\n"
          ]
        }
      ]
    },
    {
      "cell_type": "markdown",
      "source": [
        "***Answer(4.1): From the above tests performed on women and men purchases we can conclude that men spent more than women in black friday sale on WallMart***"
      ],
      "metadata": {
        "id": "ET0VvrPLHINE"
      }
    },
    {
      "cell_type": "markdown",
      "source": [
        "#Q2.\n",
        "**<font color='red'>Confidence intervals and distribution of the mean of the expenses by female and male customers (10 Points)**\n",
        "\n",
        "<font color='blue'>To find confidence interval there are 2 methods: a. CLT, b.Bootstrapping"
      ],
      "metadata": {
        "id": "rhxEfUm04fl9"
      }
    },
    {
      "cell_type": "code",
      "source": [
        "df_copy['Purchase'].describe()"
      ],
      "metadata": {
        "colab": {
          "base_uri": "https://localhost:8080/"
        },
        "id": "sqicFSlw0ENJ",
        "outputId": "f1dedc9e-9c5e-43fd-a1df-19bcb3241d89"
      },
      "execution_count": null,
      "outputs": [
        {
          "output_type": "execute_result",
          "data": {
            "text/plain": [
              "count    550068.000000\n",
              "mean       9256.710489\n",
              "std        4855.947166\n",
              "min        1984.000000\n",
              "25%        5823.000000\n",
              "50%        8047.000000\n",
              "75%       12054.000000\n",
              "max       19336.000000\n",
              "Name: Purchase, dtype: float64"
            ]
          },
          "metadata": {},
          "execution_count": 13
        }
      ]
    },
    {
      "cell_type": "code",
      "source": [
        "sns.histplot(df_copy.Purchase, bins=100)\n",
        "plt.show()"
      ],
      "metadata": {
        "colab": {
          "base_uri": "https://localhost:8080/",
          "height": 466
        },
        "id": "FJ5UwGTu0Pc6",
        "outputId": "fb03b4e4-8649-4755-83f3-e1b9fc8d049c"
      },
      "execution_count": null,
      "outputs": [
        {
          "output_type": "execute_result",
          "data": {
            "text/plain": [
              "<Axes: xlabel='Purchase', ylabel='Count'>"
            ]
          },
          "metadata": {},
          "execution_count": 14
        },
        {
          "output_type": "display_data",
          "data": {
            "text/plain": [
              "<Figure size 640x480 with 1 Axes>"
            ],
            "image/png": "[encoded data removed]"
          },
          "metadata": {}
        }
      ]
    },
    {
      "cell_type": "code",
      "source": [
        "#As we can see the data is absolutely not normal so lets perform CLT\n",
        "#method on original data or copied data which is free from outliers\n",
        "sample_5 = []\n",
        "for i in range(10000):\n",
        "  sample_5.append(np.mean(df.Purchase.sample(5)))"
      ],
      "metadata": {
        "id": "KjTiyg623BjW"
      },
      "execution_count": null,
      "outputs": []
    },
    {
      "cell_type": "code",
      "source": [
        "sample_30 = []\n",
        "for i in range(10000):\n",
        "  sample_30.append(np.mean(df.Purchase.sample(30)))"
      ],
      "metadata": {
        "id": "cfBjklwGDWX_"
      },
      "execution_count": null,
      "outputs": []
    },
    {
      "cell_type": "code",
      "source": [
        "#To avoid the for loop the data has been downloaded as text file and it will be used for further analysis\n",
        "sample_5 = np.array(sample_5)\n",
        "with open(\"file.txt\", \"w\") as output:\n",
        "    output.write(str(sample_5))"
      ],
      "metadata": {
        "id": "HkmLtxN69MEt"
      },
      "execution_count": null,
      "outputs": []
    },
    {
      "cell_type": "code",
      "source": [
        "print(f'Length of sample_5 data is {len(sample_5)}\\n'\n",
        "      f'Mean of sample_5 data is {round(np.mean(sample_5),2)}\\n'\n",
        "      f'Standard deviation of sample_5 data is {round(np.std(sample_5),2)}')"
      ],
      "metadata": {
        "colab": {
          "base_uri": "https://localhost:8080/"
        },
        "id": "CkIeLnco7tOR",
        "outputId": "51cf1d76-4e87-47ec-f0d4-da3eb8bf1085"
      },
      "execution_count": null,
      "outputs": [
        {
          "output_type": "stream",
          "name": "stdout",
          "text": [
            "Length of sample_5 data is 10000\n",
            "Mean of sample_5 data is 9293.35\n",
            "Standard deviation of sample_5 data is 2256.34\n"
          ]
        }
      ]
    },
    {
      "cell_type": "code",
      "source": [
        "#re-run\n",
        "!gdown 1zX0RrBGV98aSybL-n1LC6nMLhDp6Mti9\n",
        "sample_5 = np.loadtxt('/content/sample_5.txt',delimiter=',',dtype='str')\n",
        "sample_5 = sample_5.astype('float')\n",
        "sample_5 = pd.Series(sample_5)\n",
        "sample_5.head()"
      ],
      "metadata": {
        "colab": {
          "base_uri": "https://localhost:8080/"
        },
        "id": "vCPzRi6fZyrw",
        "outputId": "fc6d9433-d9a9-4a25-c732-26c234474d2f"
      },
      "execution_count": null,
      "outputs": [
        {
          "output_type": "stream",
          "name": "stdout",
          "text": [
            "Downloading...\n",
            "From: https://drive.google.com/uc?id=1zX0RrBGV98aSybL-n1LC6nMLhDp6Mti9\n",
            "To: /content/sample_5.txt\n",
            "\r  0% 0.00/83.7k [00:00<?, ?B/s]\r100% 83.7k/83.7k [00:00<00:00, 85.0MB/s]\n"
          ]
        },
        {
          "output_type": "execute_result",
          "data": {
            "text/plain": [
              "0    6149.6\n",
              "1    9403.2\n",
              "2    8474.2\n",
              "3    9990.6\n",
              "4    8261.6\n",
              "dtype: float64"
            ]
          },
          "metadata": {},
          "execution_count": 106
        }
      ]
    },
    {
      "cell_type": "code",
      "source": [
        "#lets check whether the sample data follows normal distribution\n",
        "sns.histplot(sample_5,bins=100)\n",
        "plt.show()"
      ],
      "metadata": {
        "colab": {
          "base_uri": "https://localhost:8080/",
          "height": 447
        },
        "id": "9LwU11Pw7cDw",
        "outputId": "6d6faa31-51f6-4672-b7bc-55377958a756"
      },
      "execution_count": null,
      "outputs": [
        {
          "output_type": "execute_result",
          "data": {
            "text/plain": [
              "<Axes: ylabel='Count'>"
            ]
          },
          "metadata": {},
          "execution_count": 28
        },
        {
          "output_type": "display_data",
          "data": {
            "text/plain": [
              "<Figure size 640x480 with 1 Axes>"
            ],
            "image/png": "[encoded data removed]"
          },
          "metadata": {}
        }
      ]
    },
    {
      "cell_type": "code",
      "source": [
        "sns.histplot(sample_30,bins=100)\n",
        "plt.show()"
      ],
      "metadata": {
        "colab": {
          "base_uri": "https://localhost:8080/",
          "height": 430
        },
        "id": "I0Wq0wxjDzUl",
        "outputId": "ed569600-48b0-4863-f818-ea7fa0296d88"
      },
      "execution_count": null,
      "outputs": [
        {
          "output_type": "display_data",
          "data": {
            "text/plain": [
              "<Figure size 640x480 with 1 Axes>"
            ],
            "image/png": "[encoded data removed]"
          },
          "metadata": {}
        }
      ]
    },
    {
      "cell_type": "code",
      "source": [
        "confidence = 0.95\n",
        "mu = sample_5.mean()\n",
        "std_dev = sample_5.std()\n",
        "n = 5\n",
        "std_error = std_dev/n**0.5"
      ],
      "metadata": {
        "id": "3dCLn3l1JplI"
      },
      "execution_count": null,
      "outputs": []
    },
    {
      "cell_type": "code",
      "source": [
        "x1,x2 = stats.norm.interval(confidence=confidence,loc=mu,scale=std_error)"
      ],
      "metadata": {
        "id": "go5FPrkEI-NT"
      },
      "execution_count": null,
      "outputs": []
    },
    {
      "cell_type": "code",
      "source": [
        "print(f'{int(confidence*100)} out of 100 times user purchases lies between {(x1, x2)}')"
      ],
      "metadata": {
        "id": "K2AQnfMc_SQt",
        "colab": {
          "base_uri": "https://localhost:8080/"
        },
        "outputId": "71d2ea0c-93e2-416e-b9b2-c54c2f64c5a9"
      },
      "execution_count": null,
      "outputs": [
        {
          "output_type": "stream",
          "name": "stdout",
          "text": [
            "95 out of 100 times user purchases lies between (7315.511388130137, 11271.180251869864)\n"
          ]
        }
      ]
    },
    {
      "cell_type": "code",
      "source": [
        "print('For 30 sample CLT')\n",
        "confidence = 0.95\n",
        "mu = np.mean(np.array(sample_30))\n",
        "std_dev = np.std(np.array(sample_30))\n",
        "n = 5\n",
        "std_error = std_dev/n**0.5\n",
        "x1,x2 = stats.norm.interval(confidence=confidence,loc=mu,scale=std_error)\n",
        "print(f'{int(confidence*100)} out of 100 times user purchases lies between {(x1, x2)}')"
      ],
      "metadata": {
        "colab": {
          "base_uri": "https://localhost:8080/"
        },
        "id": "PFlezZFxEjB9",
        "outputId": "77fd71ef-eca3-40a3-82ed-c6a8605e64ea"
      },
      "execution_count": null,
      "outputs": [
        {
          "output_type": "stream",
          "name": "stdout",
          "text": [
            "For 30 sample CLT\n",
            "95 out of 100 times user purchases lies between (8458.073193663051, 10064.661319670282)\n"
          ]
        }
      ]
    },
    {
      "cell_type": "markdown",
      "source": [
        "***(Answer 4.2): From the above sample_5 and sample_30 there is a quite big differece in the range***\n",
        "\n",
        "***So from the above 2 samples we can say that by increasing the sample size confidence interval minimizes***"
      ],
      "metadata": {
        "id": "KXBoACgiFgYk"
      }
    },
    {
      "cell_type": "markdown",
      "source": [
        "#Q3.\n",
        "**<font color='red'>Are confidence intervals of average male and female spending overlapping? How can Walmart leverage this conclusion to make changes or improvements? (10 Points)**"
      ],
      "metadata": {
        "id": "k0R_4q634jOC"
      }
    },
    {
      "cell_type": "code",
      "source": [
        "sample_5_female = []\n",
        "for i in range(10000):\n",
        "  sample_5_female.append(np.mean(df_female.Purchase.sample(5)))"
      ],
      "metadata": {
        "id": "X7r5tfytP1qy"
      },
      "execution_count": null,
      "outputs": []
    },
    {
      "cell_type": "code",
      "source": [
        "sample_5_male = []\n",
        "for i in range(10000):\n",
        "  sample_5_male.append(np.mean(df_male.Purchase.sample(5)))"
      ],
      "metadata": {
        "id": "QXE90tM2QZog"
      },
      "execution_count": null,
      "outputs": []
    },
    {
      "cell_type": "code",
      "source": [
        "# Save the list to a text file (one element per line)\n",
        "with open('sample_5_female.txt', 'w') as file:\n",
        "    for item in sample_5_female:\n",
        "        file.write(str(item) + ',')"
      ],
      "metadata": {
        "id": "HJHeF27-UoLw"
      },
      "execution_count": null,
      "outputs": []
    },
    {
      "cell_type": "code",
      "source": [
        "# Save the list to a text file (one element per line)\n",
        "with open('sample_5_male.txt', 'w') as file:\n",
        "    for item in sample_5_male:\n",
        "        file.write(str(item) + ',')"
      ],
      "metadata": {
        "id": "Ir9_Ay9BVlMR"
      },
      "execution_count": null,
      "outputs": []
    },
    {
      "cell_type": "code",
      "source": [
        "plt.figure(figsize=(10,4))\n",
        "plt.subplot(1,2,1)\n",
        "sns.histplot(sample_5_female,bins=100)\n",
        "plt.subplot(1,2,2)\n",
        "sns.histplot(sample_5_male,bins=100)"
      ],
      "metadata": {
        "colab": {
          "base_uri": "https://localhost:8080/",
          "height": 385
        },
        "id": "pfoMS6kGRN10",
        "outputId": "5310cc13-84e0-4a97-d22d-763d4b2135f6"
      },
      "execution_count": null,
      "outputs": [
        {
          "output_type": "execute_result",
          "data": {
            "text/plain": [
              "<Axes: ylabel='Count'>"
            ]
          },
          "metadata": {},
          "execution_count": 102
        },
        {
          "output_type": "display_data",
          "data": {
            "text/plain": [
              "<Figure size 1000x400 with 2 Axes>"
            ],
            "image/png": "[encoded data removed]"
          },
          "metadata": {}
        }
      ]
    },
    {
      "cell_type": "code",
      "source": [
        "#re-run\n",
        "!gdown 1HSwaUCEjraC6yudY9s5k4QdXNMhfmaZa\n",
        "sample_5_female = np.loadtxt('/content/sample_5_female.txt',delimiter=',',dtype='str')\n",
        "sample_5_female = sample_5_female[:-1] #last row has some issue\n",
        "sample_5_female = sample_5_female.astype('float')\n",
        "sample_5_female = pd.Series(sample_5_female)\n",
        "sample_5_female.head()"
      ],
      "metadata": {
        "colab": {
          "base_uri": "https://localhost:8080/"
        },
        "id": "23E-yfMPV9Lx",
        "outputId": "5342b108-ada7-4972-9de6-4b2107bdc296"
      },
      "execution_count": null,
      "outputs": [
        {
          "output_type": "execute_result",
          "data": {
            "text/plain": [
              "0     7247.2\n",
              "1     7951.0\n",
              "2     7542.0\n",
              "3    11460.6\n",
              "4     8597.6\n",
              "dtype: float64"
            ]
          },
          "metadata": {},
          "execution_count": 125
        }
      ]
    },
    {
      "cell_type": "code",
      "source": [
        "print('Female confidence Interval:')\n",
        "confidence = 0.95\n",
        "mu = sample_5_female.mean()\n",
        "std_dev = sample_5_female.std()\n",
        "n = 5\n",
        "std_error = std_dev/n**0.5\n",
        "x1,x2 = stats.norm.interval(confidence=confidence,loc=mu,scale=std_error)\n",
        "print(f'{int(confidence*100)} out of 100 times user purchases lies between {(round(x1,2), round(x2,2))}')"
      ],
      "metadata": {
        "colab": {
          "base_uri": "https://localhost:8080/"
        },
        "id": "TabUfDT3ZZ74",
        "outputId": "b8b051b0-1678-4ae2-d8de-bb5b3fe7eeff"
      },
      "execution_count": null,
      "outputs": [
        {
          "output_type": "stream",
          "name": "stdout",
          "text": [
            "Female confidence Interval:\n",
            "95 out of 100 times user purchases lies between (6915.63, 10563.7)\n"
          ]
        }
      ]
    },
    {
      "cell_type": "code",
      "source": [
        "#re-run\n",
        "!gdown 1i79h36pLoOs2uPnAJwxjMGJzxRK1I0Xw\n",
        "sample_5_male = np.loadtxt('/content/sample_5_male.txt',delimiter=',',dtype='str')\n",
        "sample_5_male = sample_5_male[:-1]\n",
        "sample_5_male = sample_5_male.astype('float')\n",
        "sample_5_male = pd.Series(sample_5_male)\n",
        "sample_5_male.head()"
      ],
      "metadata": {
        "colab": {
          "base_uri": "https://localhost:8080/"
        },
        "id": "EvMFuWrySyYY",
        "outputId": "d9c8d453-18e3-48b0-c7f7-6058b3c96793"
      },
      "execution_count": null,
      "outputs": [
        {
          "output_type": "stream",
          "name": "stdout",
          "text": [
            "Downloading...\n",
            "From: https://drive.google.com/uc?id=1i79h36pLoOs2uPnAJwxjMGJzxRK1I0Xw\n",
            "To: /content/sample_5_male.txt\n",
            "\r  0% 0.00/73.8k [00:00<?, ?B/s]\r100% 73.8k/73.8k [00:00<00:00, 83.6MB/s]\n"
          ]
        },
        {
          "output_type": "execute_result",
          "data": {
            "text/plain": [
              "0     5694.6\n",
              "1    10578.2\n",
              "2     7018.2\n",
              "3    11059.6\n",
              "4     8388.0\n",
              "dtype: float64"
            ]
          },
          "metadata": {},
          "execution_count": 126
        }
      ]
    },
    {
      "cell_type": "code",
      "source": [
        "print('Male confidence Interval:')\n",
        "confidence = 0.95\n",
        "mu = sample_5_male.mean()\n",
        "std_dev = sample_5_male.std()\n",
        "n = 5\n",
        "std_error = std_dev/n**0.5\n",
        "x1,x2 = stats.norm.interval(confidence=confidence,loc=mu,scale=std_error)\n",
        "print(f'{int(confidence*100)} out of 100 times user purchases lies between {(round(x1,2), round(x2,2))}')"
      ],
      "metadata": {
        "colab": {
          "base_uri": "https://localhost:8080/"
        },
        "id": "IyOggZMtYyHb",
        "outputId": "e3eda9bd-af91-4d41-faff-284da249cf7a"
      },
      "execution_count": null,
      "outputs": [
        {
          "output_type": "stream",
          "name": "stdout",
          "text": [
            "Male confidence Interval:\n",
            "95 out of 100 times user purchases lies between (7462.64, 11330.36)\n"
          ]
        }
      ]
    },
    {
      "cell_type": "markdown",
      "source": [
        "***(Answer-4.3): Female confidence interval is lying in male confidence interval. An average individual spending limit is more than 6900 where this is huge but this can be increased if males are more attracted by their offers not directly on the product but if they provide an offer like buy more get more***\n",
        "\n",
        "***WallMart should levarage this oppourtunity in other sales by focussing on male customers over female customers***\n",
        "\n",
        "***Note: If we would have the data regarding the type of product then it would be more sufficient data to analyse which type of products are being purchased by male customers***"
      ],
      "metadata": {
        "id": "jXfOo7Bm6IB6"
      }
    },
    {
      "cell_type": "markdown",
      "source": [
        "#Q4.\n",
        "**<font color='red'>Results when the same activity is performed for Married vs Unmarried (10 Points)**"
      ],
      "metadata": {
        "id": "_c998M-s4oHl"
      }
    },
    {
      "cell_type": "code",
      "source": [
        "df_unmarried = df_copy[df_copy['Marital_Status']==0]\n",
        "df_married = df_copy[df_copy['Marital_Status']==1]"
      ],
      "metadata": {
        "id": "t1vVcO8lZ243"
      },
      "execution_count": null,
      "outputs": []
    },
    {
      "cell_type": "code",
      "source": [
        "sample_5_unmarried = []\n",
        "for i in range(10000):\n",
        "  sample_5_unmarried.append(np.mean(df_unmarried.Purchase.sample(5)))\n",
        "\n",
        "sample_5_married = []\n",
        "for i in range(10000):\n",
        "  sample_5_married.append(np.mean(df_married.Purchase.sample(5)))"
      ],
      "metadata": {
        "id": "7ReMADnnZugL"
      },
      "execution_count": null,
      "outputs": []
    },
    {
      "cell_type": "code",
      "source": [
        "sample_30_unmarried = []\n",
        "for i in range(10000):\n",
        "  sample_30_unmarried.append(np.mean(df_unmarried.Purchase.sample(30)))\n",
        "\n",
        "sample_30_married = []\n",
        "for i in range(10000):\n",
        "  sample_30_married.append(np.mean(df_married.Purchase.sample(30)))"
      ],
      "metadata": {
        "id": "xB8Vjj868-YR"
      },
      "execution_count": null,
      "outputs": []
    },
    {
      "cell_type": "code",
      "source": [
        "plt.figure(figsize=(10,4))\n",
        "plt.subplot(1,2,1)\n",
        "sns.histplot(sample_5_unmarried,bins=100)\n",
        "plt.subplot(1,2,2)\n",
        "sns.histplot(sample_5_married,bins=100)"
      ],
      "metadata": {
        "colab": {
          "base_uri": "https://localhost:8080/",
          "height": 385
        },
        "id": "vPzKVfhMaadV",
        "outputId": "3e0d47fe-ff76-44b2-b474-577ba00fbd67"
      },
      "execution_count": null,
      "outputs": [
        {
          "output_type": "execute_result",
          "data": {
            "text/plain": [
              "<Axes: ylabel='Count'>"
            ]
          },
          "metadata": {},
          "execution_count": 133
        },
        {
          "output_type": "display_data",
          "data": {
            "text/plain": [
              "<Figure size 1000x400 with 2 Axes>"
            ],
            "image/png": "[encoded data removed]"
          },
          "metadata": {}
        }
      ]
    },
    {
      "cell_type": "code",
      "source": [
        "plt.figure(figsize=(10,4))\n",
        "plt.subplot(1,2,1)\n",
        "sns.histplot(sample_30_unmarried,bins=100)\n",
        "plt.subplot(1,2,2)\n",
        "sns.histplot(sample_30_married,bins=100)\n",
        "plt.show()"
      ],
      "metadata": {
        "colab": {
          "base_uri": "https://localhost:8080/",
          "height": 368
        },
        "id": "GaP0odtN9xud",
        "outputId": "631b1ca3-3bd7-4468-aa0f-8d4fb221671d"
      },
      "execution_count": null,
      "outputs": [
        {
          "output_type": "display_data",
          "data": {
            "text/plain": [
              "<Figure size 1000x400 with 2 Axes>"
            ],
            "image/png": "[encoded data removed]"
          },
          "metadata": {}
        }
      ]
    },
    {
      "cell_type": "code",
      "source": [
        "sample_5_unmarried = np.array(sample_5_unmarried)\n",
        "sample_5_married = np.array(sample_5_married)"
      ],
      "metadata": {
        "id": "oFdvTt7IbOiZ"
      },
      "execution_count": null,
      "outputs": []
    },
    {
      "cell_type": "code",
      "source": [
        "sample_30_unmarried = np.array(sample_30_unmarried)\n",
        "sample_30_married = np.array(sample_30_married)"
      ],
      "metadata": {
        "id": "ztZWNc2499Go"
      },
      "execution_count": null,
      "outputs": []
    },
    {
      "cell_type": "markdown",
      "source": [
        "*Confidence interval with 5 sample CLT*"
      ],
      "metadata": {
        "id": "SQle5JR3-F1O"
      }
    },
    {
      "cell_type": "code",
      "source": [
        "print('Unmarried confidence Interval:')\n",
        "confidence = 0.95\n",
        "mu = sample_5_unmarried.mean()\n",
        "std_dev = sample_5_unmarried.std()\n",
        "n = 5\n",
        "std_error = std_dev/n**0.5\n",
        "x1,x2 = stats.norm.interval(confidence=confidence,loc=mu,scale=std_error)\n",
        "print(f'{int(confidence*100)} out of 100 times user purchases lies between {(round(x1,2), round(x2,2))}')"
      ],
      "metadata": {
        "colab": {
          "base_uri": "https://localhost:8080/"
        },
        "id": "Ig0QquDCamyZ",
        "outputId": "c8d7b22f-ca62-4314-9067-92d64e99c892"
      },
      "execution_count": null,
      "outputs": [
        {
          "output_type": "stream",
          "name": "stdout",
          "text": [
            "Unmarried confidence Interval:\n",
            "95 out of 100 times user purchases lies between (7327.41, 11140.6)\n"
          ]
        }
      ]
    },
    {
      "cell_type": "code",
      "source": [
        "print('Married confidence Interval:')\n",
        "confidence = 0.95\n",
        "mu = sample_5_married.mean()\n",
        "std_dev = sample_5_married.std()\n",
        "n = 5\n",
        "std_error = std_dev/n**0.5\n",
        "x1,x2 = stats.norm.interval(confidence=confidence,loc=mu,scale=std_error)\n",
        "print(f'{int(confidence*100)} out of 100 times user purchases lies between {(round(x1,2), round(x2,2))}')"
      ],
      "metadata": {
        "colab": {
          "base_uri": "https://localhost:8080/"
        },
        "id": "nDbDXyBAaw5y",
        "outputId": "95141382-291f-47ee-d002-a088b1dbb365"
      },
      "execution_count": null,
      "outputs": [
        {
          "output_type": "stream",
          "name": "stdout",
          "text": [
            "Married confidence Interval:\n",
            "95 out of 100 times user purchases lies between (7352.69, 11112.68)\n"
          ]
        }
      ]
    },
    {
      "cell_type": "markdown",
      "source": [
        "*Confidence interval with 30 sample CLT*"
      ],
      "metadata": {
        "id": "N0EstFfh-Skp"
      }
    },
    {
      "cell_type": "code",
      "source": [
        "print('Unmarried confidence Interval with sample size of 30:')\n",
        "confidence = 0.95\n",
        "mu = sample_30_unmarried.mean()\n",
        "std_dev = sample_30_unmarried.std()\n",
        "n = 5\n",
        "std_error = std_dev/n**0.5\n",
        "x1,x2 = stats.norm.interval(confidence=confidence,loc=mu,scale=std_error)\n",
        "print(f'{int(confidence*100)} out of 100 times unmarried user purchases lies between {(round(x1,2), round(x2,2))}')"
      ],
      "metadata": {
        "colab": {
          "base_uri": "https://localhost:8080/"
        },
        "id": "Nqc9R1CX-W12",
        "outputId": "9d5a7687-a284-4e4e-8885-d84865343ad5"
      },
      "execution_count": null,
      "outputs": [
        {
          "output_type": "stream",
          "name": "stdout",
          "text": [
            "Unmarried confidence Interval with sample size of 30:\n",
            "95 out of 100 times unmarried user purchases lies between (8482.95, 10061.71)\n"
          ]
        }
      ]
    },
    {
      "cell_type": "code",
      "source": [
        "print('Married confidence Interval with sample size of 30:')\n",
        "confidence = 0.95\n",
        "mu = sample_30_married.mean()\n",
        "std_dev = sample_30_married.std()\n",
        "n = 5\n",
        "std_error = std_dev/n**0.5\n",
        "x1,x2 = stats.norm.interval(confidence=confidence,loc=mu,scale=std_error)\n",
        "print(f'{int(confidence*100)} out of 100 times married user purchases lies between {(round(x1,2), round(x2,2))}')"
      ],
      "metadata": {
        "colab": {
          "base_uri": "https://localhost:8080/"
        },
        "id": "5euMvcDv-m-G",
        "outputId": "0a380809-d938-43d0-80af-80cee4dac3db"
      },
      "execution_count": null,
      "outputs": [
        {
          "output_type": "stream",
          "name": "stdout",
          "text": [
            "Married confidence Interval with sample size of 30:\n",
            "95 out of 100 times married user purchases lies between (8485.9, 10042.32)\n"
          ]
        }
      ]
    },
    {
      "cell_type": "markdown",
      "source": [
        "**Q5. Results when the same activity is performed for Age (10 Points)**"
      ],
      "metadata": {
        "id": "27BCLLSq4sZA"
      }
    },
    {
      "cell_type": "code",
      "source": [
        "s = df_copy.Age.unique()"
      ],
      "metadata": {
        "id": "f0qPPJPPbfW7"
      },
      "execution_count": null,
      "outputs": []
    },
    {
      "cell_type": "code",
      "source": [
        "df_age = {}\n",
        "for i in s:\n",
        "  sample = []\n",
        "  df_sample = df_copy[df_copy.Age == i]\n",
        "  for j in range(5000):\n",
        "    sample.append(np.mean(df_sample.Purchase.sample(5)))\n",
        "  df_age[i] = sample"
      ],
      "metadata": {
        "id": "XGCGRe9edUca"
      },
      "execution_count": null,
      "outputs": []
    },
    {
      "cell_type": "code",
      "source": [
        "df_age = pd.DataFrame(df_age)\n",
        "df_age.head()"
      ],
      "metadata": {
        "colab": {
          "base_uri": "https://localhost:8080/",
          "height": 206
        },
        "id": "REw4B8FVgPI4",
        "outputId": "512d366a-7d17-48ec-a655-3300ac7e98fa"
      },
      "execution_count": null,
      "outputs": [
        {
          "output_type": "execute_result",
          "data": {
            "text/plain": [
              "      0-17      55+   26-35    46-50    51-55    36-45    18-25\n",
              "0  11101.2   9423.0  7595.4  12543.6   5367.8  12055.4   6064.8\n",
              "1  11624.8  12870.8  7413.4   6196.2  12722.4   7262.0   7462.8\n",
              "2   7780.4   9032.2  9162.2   9486.6   5848.6   7792.0   5159.8\n",
              "3   9980.2  10375.8  8490.6   8117.6  13304.4  12662.6  10427.6\n",
              "4  12544.4   7927.8  9028.0   9245.8  10881.0  10040.0  12010.4"
            ],
            "text/html": [
              "\n",
              "  <div id=\"df-c8c1daf7-90da-4bb4-85a3-e6d1cffc2838\" class=\"colab-df-container\">\n",
              "    <div>\n",
              "<style scoped>\n",
              "    .dataframe tbody tr th:only-of-type {\n",
              "        vertical-align: middle;\n",
              "    }\n",
              "\n",
              "    .dataframe tbody tr th {\n",
              "        vertical-align: top;\n",
              "    }\n",
              "\n",
              "    .dataframe thead th {\n",
              "        text-align: right;\n",
              "    }\n",
              "</style>\n",
              "<table border=\"1\" class=\"dataframe\">\n",
              "  <thead>\n",
              "    <tr style=\"text-align: right;\">\n",
              "      <th></th>\n",
              "      <th>0-17</th>\n",
              "      <th>55+</th>\n",
              "      <th>26-35</th>\n",
              "      <th>46-50</th>\n",
              "      <th>51-55</th>\n",
              "      <th>36-45</th>\n",
              "      <th>18-25</th>\n",
              "    </tr>\n",
              "  </thead>\n",
              "  <tbody>\n",
              "    <tr>\n",
              "      <th>0</th>\n",
              "      <td>11101.2</td>\n",
              "      <td>9423.0</td>\n",
              "      <td>7595.4</td>\n",
              "      <td>12543.6</td>\n",
              "      <td>5367.8</td>\n",
              "      <td>12055.4</td>\n",
              "      <td>6064.8</td>\n",
              "    </tr>\n",
              "    <tr>\n",
              "      <th>1</th>\n",
              "      <td>11624.8</td>\n",
              "      <td>12870.8</td>\n",
              "      <td>7413.4</td>\n",
              "      <td>6196.2</td>\n",
              "      <td>12722.4</td>\n",
              "      <td>7262.0</td>\n",
              "      <td>7462.8</td>\n",
              "    </tr>\n",
              "    <tr>\n",
              "      <th>2</th>\n",
              "      <td>7780.4</td>\n",
              "      <td>9032.2</td>\n",
              "      <td>9162.2</td>\n",
              "      <td>9486.6</td>\n",
              "      <td>5848.6</td>\n",
              "      <td>7792.0</td>\n",
              "      <td>5159.8</td>\n",
              "    </tr>\n",
              "    <tr>\n",
              "      <th>3</th>\n",
              "      <td>9980.2</td>\n",
              "      <td>10375.8</td>\n",
              "      <td>8490.6</td>\n",
              "      <td>8117.6</td>\n",
              "      <td>13304.4</td>\n",
              "      <td>12662.6</td>\n",
              "      <td>10427.6</td>\n",
              "    </tr>\n",
              "    <tr>\n",
              "      <th>4</th>\n",
              "      <td>12544.4</td>\n",
              "      <td>7927.8</td>\n",
              "      <td>9028.0</td>\n",
              "      <td>9245.8</td>\n",
              "      <td>10881.0</td>\n",
              "      <td>10040.0</td>\n",
              "      <td>12010.4</td>\n",
              "    </tr>\n",
              "  </tbody>\n",
              "</table>\n",
              "</div>\n",
              "    <div class=\"colab-df-buttons\">\n",
              "\n",
              "  <div class=\"colab-df-container\">\n",
              "    <button class=\"colab-df-convert\" onclick=\"convertToInteractive('df-c8c1daf7-90da-4bb4-85a3-e6d1cffc2838')\"\n",
              "            title=\"Convert this dataframe to an interactive table.\"\n",
              "            style=\"display:none;\">\n",
              "\n",
              "  <svg xmlns=\"http://www.w3.org/2000/svg\" height=\"24px\" viewBox=\"0 -960 960 960\">\n",
              "    <path d=\"M120-120v-720h720v720H120Zm60-500h600v-160H180v160Zm220 220h160v-160H400v160Zm0 220h160v-160H400v160ZM180-400h160v-160H180v160Zm440 0h160v-160H620v160ZM180-180h160v-160H180v160Zm440 0h160v-160H620v160Z\"/>\n",
              "  </svg>\n",
              "    </button>\n",
              "\n",
              "  <style>\n",
              "    .colab-df-container {\n",
              "      display:flex;\n",
              "      gap: 12px;\n",
              "    }\n",
              "\n",
              "    .colab-df-convert {\n",
              "      background-color: #E8F0FE;\n",
              "      border: none;\n",
              "      border-radius: 50%;\n",
              "      cursor: pointer;\n",
              "      display: none;\n",
              "      fill: #1967D2;\n",
              "      height: 32px;\n",
              "      padding: 0 0 0 0;\n",
              "      width: 32px;\n",
              "    }\n",
              "\n",
              "    .colab-df-convert:hover {\n",
              "      background-color: #E2EBFA;\n",
              "      box-shadow: 0px 1px 2px rgba(60, 64, 67, 0.3), 0px 1px 3px 1px rgba(60, 64, 67, 0.15);\n",
              "      fill: #174EA6;\n",
              "    }\n",
              "\n",
              "    .colab-df-buttons div {\n",
              "      margin-bottom: 4px;\n",
              "    }\n",
              "\n",
              "    [theme=dark] .colab-df-convert {\n",
              "      background-color: #3B4455;\n",
              "      fill: #D2E3FC;\n",
              "    }\n",
              "\n",
              "    [theme=dark] .colab-df-convert:hover {\n",
              "      background-color: #434B5C;\n",
              "      box-shadow: 0px 1px 3px 1px rgba(0, 0, 0, 0.15);\n",
              "      filter: drop-shadow(0px 1px 2px rgba(0, 0, 0, 0.3));\n",
              "      fill: #FFFFFF;\n",
              "    }\n",
              "  </style>\n",
              "\n",
              "    <script>\n",
              "      const buttonEl =\n",
              "        document.querySelector('#df-c8c1daf7-90da-4bb4-85a3-e6d1cffc2838 button.colab-df-convert');\n",
              "      buttonEl.style.display =\n",
              "        google.colab.kernel.accessAllowed ? 'block' : 'none';\n",
              "\n",
              "      async function convertToInteractive(key) {\n",
              "        const element = document.querySelector('#df-c8c1daf7-90da-4bb4-85a3-e6d1cffc2838');\n",
              "        const dataTable =\n",
              "          await google.colab.kernel.invokeFunction('convertToInteractive',\n",
              "                                                    [key], {});\n",
              "        if (!dataTable) return;\n",
              "\n",
              "        const docLinkHtml = 'Like what you see? Visit the ' +\n",
              "          '<a target=\"_blank\" href=https://colab.research.google.com/notebooks/data_table.ipynb>data table notebook</a>'\n",
              "          + ' to learn more about interactive tables.';\n",
              "        element.innerHTML = '';\n",
              "        dataTable['output_type'] = 'display_data';\n",
              "        await google.colab.output.renderOutput(dataTable, element);\n",
              "        const docLink = document.createElement('div');\n",
              "        docLink.innerHTML = docLinkHtml;\n",
              "        element.appendChild(docLink);\n",
              "      }\n",
              "    </script>\n",
              "  </div>\n",
              "\n",
              "\n",
              "<div id=\"df-da6eedba-1c3e-451b-a803-f83b8e42b0e1\">\n",
              "  <button class=\"colab-df-quickchart\" onclick=\"quickchart('df-da6eedba-1c3e-451b-a803-f83b8e42b0e1')\"\n",
              "            title=\"Suggest charts\"\n",
              "            style=\"display:none;\">\n",
              "\n",
              "<svg xmlns=\"http://www.w3.org/2000/svg\" height=\"24px\"viewBox=\"0 0 24 24\"\n",
              "     width=\"24px\">\n",
              "    <g>\n",
              "        <path d=\"M19 3H5c-1.1 0-2 .9-2 2v14c0 1.1.9 2 2 2h14c1.1 0 2-.9 2-2V5c0-1.1-.9-2-2-2zM9 17H7v-7h2v7zm4 0h-2V7h2v10zm4 0h-2v-4h2v4z\"/>\n",
              "    </g>\n",
              "</svg>\n",
              "  </button>\n",
              "\n",
              "<style>\n",
              "  .colab-df-quickchart {\n",
              "      --bg-color: #E8F0FE;\n",
              "      --fill-color: #1967D2;\n",
              "      --hover-bg-color: #E2EBFA;\n",
              "      --hover-fill-color: #174EA6;\n",
              "      --disabled-fill-color: #AAA;\n",
              "      --disabled-bg-color: #DDD;\n",
              "  }\n",
              "\n",
              "  [theme=dark] .colab-df-quickchart {\n",
              "      --bg-color: #3B4455;\n",
              "      --fill-color: #D2E3FC;\n",
              "      --hover-bg-color: #434B5C;\n",
              "      --hover-fill-color: #FFFFFF;\n",
              "      --disabled-bg-color: #3B4455;\n",
              "      --disabled-fill-color: #666;\n",
              "  }\n",
              "\n",
              "  .colab-df-quickchart {\n",
              "    background-color: var(--bg-color);\n",
              "    border: none;\n",
              "    border-radius: 50%;\n",
              "    cursor: pointer;\n",
              "    display: none;\n",
              "    fill: var(--fill-color);\n",
              "    height: 32px;\n",
              "    padding: 0;\n",
              "    width: 32px;\n",
              "  }\n",
              "\n",
              "  .colab-df-quickchart:hover {\n",
              "    background-color: var(--hover-bg-color);\n",
              "    box-shadow: 0 1px 2px rgba(60, 64, 67, 0.3), 0 1px 3px 1px rgba(60, 64, 67, 0.15);\n",
              "    fill: var(--button-hover-fill-color);\n",
              "  }\n",
              "\n",
              "  .colab-df-quickchart-complete:disabled,\n",
              "  .colab-df-quickchart-complete:disabled:hover {\n",
              "    background-color: var(--disabled-bg-color);\n",
              "    fill: var(--disabled-fill-color);\n",
              "    box-shadow: none;\n",
              "  }\n",
              "\n",
              "  .colab-df-spinner {\n",
              "    border: 2px solid var(--fill-color);\n",
              "    border-color: transparent;\n",
              "    border-bottom-color: var(--fill-color);\n",
              "    animation:\n",
              "      spin 1s steps(1) infinite;\n",
              "  }\n",
              "\n",
              "  @keyframes spin {\n",
              "    0% {\n",
              "      border-color: transparent;\n",
              "      border-bottom-color: var(--fill-color);\n",
              "      border-left-color: var(--fill-color);\n",
              "    }\n",
              "    20% {\n",
              "      border-color: transparent;\n",
              "      border-left-color: var(--fill-color);\n",
              "      border-top-color: var(--fill-color);\n",
              "    }\n",
              "    30% {\n",
              "      border-color: transparent;\n",
              "      border-left-color: var(--fill-color);\n",
              "      border-top-color: var(--fill-color);\n",
              "      border-right-color: var(--fill-color);\n",
              "    }\n",
              "    40% {\n",
              "      border-color: transparent;\n",
              "      border-right-color: var(--fill-color);\n",
              "      border-top-color: var(--fill-color);\n",
              "    }\n",
              "    60% {\n",
              "      border-color: transparent;\n",
              "      border-right-color: var(--fill-color);\n",
              "    }\n",
              "    80% {\n",
              "      border-color: transparent;\n",
              "      border-right-color: var(--fill-color);\n",
              "      border-bottom-color: var(--fill-color);\n",
              "    }\n",
              "    90% {\n",
              "      border-color: transparent;\n",
              "      border-bottom-color: var(--fill-color);\n",
              "    }\n",
              "  }\n",
              "</style>\n",
              "\n",
              "  <script>\n",
              "    async function quickchart(key) {\n",
              "      const quickchartButtonEl =\n",
              "        document.querySelector('#' + key + ' button');\n",
              "      quickchartButtonEl.disabled = true;  // To prevent multiple clicks.\n",
              "      quickchartButtonEl.classList.add('colab-df-spinner');\n",
              "      try {\n",
              "        const charts = await google.colab.kernel.invokeFunction(\n",
              "            'suggestCharts', [key], {});\n",
              "      } catch (error) {\n",
              "        console.error('Error during call to suggestCharts:', error);\n",
              "      }\n",
              "      quickchartButtonEl.classList.remove('colab-df-spinner');\n",
              "      quickchartButtonEl.classList.add('colab-df-quickchart-complete');\n",
              "    }\n",
              "    (() => {\n",
              "      let quickchartButtonEl =\n",
              "        document.querySelector('#df-da6eedba-1c3e-451b-a803-f83b8e42b0e1 button');\n",
              "      quickchartButtonEl.style.display =\n",
              "        google.colab.kernel.accessAllowed ? 'block' : 'none';\n",
              "    })();\n",
              "  </script>\n",
              "</div>\n",
              "\n",
              "    </div>\n",
              "  </div>\n"
            ],
            "application/vnd.google.colaboratory.intrinsic+json": {
              "type": "dataframe",
              "variable_name": "df_age",
              "summary": "{\n  \"name\": \"df_age\",\n  \"rows\": 5000,\n  \"fields\": [\n    {\n      \"column\": \"0-17\",\n      \"properties\": {\n        \"dtype\": \"number\",\n        \"std\": 2196.387450037835,\n        \"min\": 2926.6,\n        \"max\": 17154.6,\n        \"num_unique_values\": 4708,\n        \"samples\": [\n          11366.0,\n          9723.8,\n          13708.8\n        ],\n        \"semantic_type\": \"\",\n        \"description\": \"\"\n      }\n    },\n    {\n      \"column\": \"55+\",\n      \"properties\": {\n        \"dtype\": \"number\",\n        \"std\": 2109.670082112758,\n        \"min\": 2671.0,\n        \"max\": 17218.4,\n        \"num_unique_values\": 4699,\n        \"samples\": [\n          11058.4,\n          7964.8,\n          9361.4\n        ],\n        \"semantic_type\": \"\",\n        \"description\": \"\"\n      }\n    },\n    {\n      \"column\": \"26-35\",\n      \"properties\": {\n        \"dtype\": \"number\",\n        \"std\": 2210.718534163239,\n        \"min\": 2648.2,\n        \"max\": 17959.2,\n        \"num_unique_values\": 4682,\n        \"samples\": [\n          7652.2,\n          7172.6,\n          8852.0\n        ],\n        \"semantic_type\": \"\",\n        \"description\": \"\"\n      }\n    },\n    {\n      \"column\": \"46-50\",\n      \"properties\": {\n        \"dtype\": \"number\",\n        \"std\": 2163.3080845399177,\n        \"min\": 3176.8,\n        \"max\": 17153.2,\n        \"num_unique_values\": 4687,\n        \"samples\": [\n          6404.0,\n          11456.0,\n          8885.4\n        ],\n        \"semantic_type\": \"\",\n        \"description\": \"\"\n      }\n    },\n    {\n      \"column\": \"51-55\",\n      \"properties\": {\n        \"dtype\": \"number\",\n        \"std\": 2188.4622617597015,\n        \"min\": 3656.6,\n        \"max\": 17907.6,\n        \"num_unique_values\": 4707,\n        \"samples\": [\n          12160.4,\n          10585.8,\n          8301.0\n        ],\n        \"semantic_type\": \"\",\n        \"description\": \"\"\n      }\n    },\n    {\n      \"column\": \"36-45\",\n      \"properties\": {\n        \"dtype\": \"number\",\n        \"std\": 2169.238308874438,\n        \"min\": 3448.6,\n        \"max\": 17924.6,\n        \"num_unique_values\": 4707,\n        \"samples\": [\n          10219.8,\n          12491.8,\n          11200.0\n        ],\n        \"semantic_type\": \"\",\n        \"description\": \"\"\n      }\n    },\n    {\n      \"column\": \"18-25\",\n      \"properties\": {\n        \"dtype\": \"number\",\n        \"std\": 2209.971954854839,\n        \"min\": 2784.2,\n        \"max\": 17419.4,\n        \"num_unique_values\": 4699,\n        \"samples\": [\n          10716.6,\n          11880.6,\n          11907.2\n        ],\n        \"semantic_type\": \"\",\n        \"description\": \"\"\n      }\n    }\n  ]\n}"
            }
          },
          "metadata": {},
          "execution_count": 156
        }
      ]
    },
    {
      "cell_type": "code",
      "source": [
        "plt.figure(figsize=(9,9))\n",
        "for i in range(len(s)):\n",
        "  plt.subplot(3,3,i+1)\n",
        "  sns.histplot(df_age[s[i]],bins=100)"
      ],
      "metadata": {
        "colab": {
          "base_uri": "https://localhost:8080/",
          "height": 773
        },
        "id": "6QoBkA-lgaoW",
        "outputId": "b42f3d0a-fbc0-4c3d-efbc-efae3098730f"
      },
      "execution_count": null,
      "outputs": [
        {
          "output_type": "display_data",
          "data": {
            "text/plain": [
              "<Figure size 900x900 with 7 Axes>"
            ],
            "image/png": "[encoded data removed]"
          },
          "metadata": {}
        }
      ]
    },
    {
      "cell_type": "code",
      "source": [
        "def confidence_interval(k):\n",
        "  print(f'age group of {k} confidence Interval:')\n",
        "  confidence = 0.95\n",
        "  mu = df_age[k].mean()\n",
        "  std_dev = df_age[k].std()\n",
        "  n = 5 #sample size\n",
        "  std_error = std_dev/n**0.5\n",
        "  x1,x2 = stats.norm.interval(confidence=confidence,loc=mu,scale=std_error)\n",
        "  print(f'{int(confidence*100)} out of 100 times this age group {k} user purchases lies between {(round(x1,2), round(x2,2))}')"
      ],
      "metadata": {
        "id": "3xVQOcBKc3xO"
      },
      "execution_count": null,
      "outputs": []
    },
    {
      "cell_type": "code",
      "source": [
        "for group in s:\n",
        "  confidence_interval(group)"
      ],
      "metadata": {
        "colab": {
          "base_uri": "https://localhost:8080/"
        },
        "id": "kXyEjC7Cio67",
        "outputId": "5c8b8b28-c920-4506-8b48-7480f03a5fe4"
      },
      "execution_count": null,
      "outputs": [
        {
          "output_type": "stream",
          "name": "stdout",
          "text": [
            "age group of 0-17 confidence Interval:\n",
            "95 out of 100 times this age group 0-17 user purchases lies between (7025.77, 10876.13)\n",
            "age group of 55+ confidence Interval:\n",
            "95 out of 100 times this age group 55+ user purchases lies between (7451.96, 11150.31)\n",
            "age group of 26-35 confidence Interval:\n",
            "95 out of 100 times this age group 26-35 user purchases lies between (7293.67, 11169.16)\n",
            "age group of 46-50 confidence Interval:\n",
            "95 out of 100 times this age group 46-50 user purchases lies between (7284.2, 11076.58)\n",
            "age group of 51-55 confidence Interval:\n",
            "95 out of 100 times this age group 51-55 user purchases lies between (7626.37, 11462.84)\n",
            "age group of 36-45 confidence Interval:\n",
            "95 out of 100 times this age group 36-45 user purchases lies between (7468.84, 11271.61)\n",
            "age group of 18-25 confidence Interval:\n",
            "95 out of 100 times this age group 18-25 user purchases lies between (7220.07, 11094.25)\n"
          ]
        }
      ]
    },
    {
      "cell_type": "markdown",
      "source": [
        "#<font color='purple'>5. Final Insights (10 Points) - Illustrate the insights based on exploration and CLT\n"
      ],
      "metadata": {
        "id": "Vx-dIIUc4zUe"
      }
    },
    {
      "cell_type": "markdown",
      "source": [
        "#<font color='red'>Data Exploration"
      ],
      "metadata": {
        "id": "faOUsYsWBvp_"
      }
    },
    {
      "cell_type": "code",
      "source": [
        "age_group = df.Age.value_counts().index\n",
        "for i in age_group:\n",
        "  products = df[df.Age==i]['Product_ID'].value_counts(ascending=False).index[:2]\n",
        "  print(f'For age group of {i} most purchased products are {products[0],products[1]}')"
      ],
      "metadata": {
        "colab": {
          "base_uri": "https://localhost:8080/"
        },
        "id": "HlZzxsE594PZ",
        "outputId": "0c8d0fb1-2f70-4b55-8f48-7bb66ab07788"
      },
      "execution_count": null,
      "outputs": [
        {
          "output_type": "stream",
          "name": "stdout",
          "text": [
            "For age group of 26-35 most purchased products are ('P00265242', 'P00110742')\n",
            "For age group of 36-45 most purchased products are ('P00025442', 'P00265242')\n",
            "For age group of 18-25 most purchased products are ('P00265242', 'P00112142')\n",
            "For age group of 46-50 most purchased products are ('P00265242', 'P00046742')\n",
            "For age group of 51-55 most purchased products are ('P00265242', 'P00025442')\n",
            "For age group of 55+ most purchased products are ('P00265242', 'P00080342')\n",
            "For age group of 0-17 most purchased products are ('P00255842', 'P00145042')\n"
          ]
        }
      ]
    },
    {
      "cell_type": "code",
      "source": [
        "pd.crosstab(df.Age, df.Marital_Status)"
      ],
      "metadata": {
        "colab": {
          "base_uri": "https://localhost:8080/",
          "height": 300
        },
        "id": "jjv7oCCU_KM6",
        "outputId": "80c0dea2-e908-4fcb-d18f-daa9230aa8b8"
      },
      "execution_count": null,
      "outputs": [
        {
          "output_type": "execute_result",
          "data": {
            "text/plain": [
              "Marital_Status       0      1\n",
              "Age                          \n",
              "0-17             15102      0\n",
              "18-25            78544  21116\n",
              "26-35           133296  86291\n",
              "36-45            66377  43636\n",
              "46-50            12690  33011\n",
              "51-55            10839  27662\n",
              "55+               7883  13621"
            ],
            "text/html": [
              "\n",
              "  <div id=\"df-c9f48e09-d890-4b6d-a9ff-88a6b3866f16\" class=\"colab-df-container\">\n",
              "    <div>\n",
              "<style scoped>\n",
              "    .dataframe tbody tr th:only-of-type {\n",
              "        vertical-align: middle;\n",
              "    }\n",
              "\n",
              "    .dataframe tbody tr th {\n",
              "        vertical-align: top;\n",
              "    }\n",
              "\n",
              "    .dataframe thead th {\n",
              "        text-align: right;\n",
              "    }\n",
              "</style>\n",
              "<table border=\"1\" class=\"dataframe\">\n",
              "  <thead>\n",
              "    <tr style=\"text-align: right;\">\n",
              "      <th>Marital_Status</th>\n",
              "      <th>0</th>\n",
              "      <th>1</th>\n",
              "    </tr>\n",
              "    <tr>\n",
              "      <th>Age</th>\n",
              "      <th></th>\n",
              "      <th></th>\n",
              "    </tr>\n",
              "  </thead>\n",
              "  <tbody>\n",
              "    <tr>\n",
              "      <th>0-17</th>\n",
              "      <td>15102</td>\n",
              "      <td>0</td>\n",
              "    </tr>\n",
              "    <tr>\n",
              "      <th>18-25</th>\n",
              "      <td>78544</td>\n",
              "      <td>21116</td>\n",
              "    </tr>\n",
              "    <tr>\n",
              "      <th>26-35</th>\n",
              "      <td>133296</td>\n",
              "      <td>86291</td>\n",
              "    </tr>\n",
              "    <tr>\n",
              "      <th>36-45</th>\n",
              "      <td>66377</td>\n",
              "      <td>43636</td>\n",
              "    </tr>\n",
              "    <tr>\n",
              "      <th>46-50</th>\n",
              "      <td>12690</td>\n",
              "      <td>33011</td>\n",
              "    </tr>\n",
              "    <tr>\n",
              "      <th>51-55</th>\n",
              "      <td>10839</td>\n",
              "      <td>27662</td>\n",
              "    </tr>\n",
              "    <tr>\n",
              "      <th>55+</th>\n",
              "      <td>7883</td>\n",
              "      <td>13621</td>\n",
              "    </tr>\n",
              "  </tbody>\n",
              "</table>\n",
              "</div>\n",
              "    <div class=\"colab-df-buttons\">\n",
              "\n",
              "  <div class=\"colab-df-container\">\n",
              "    <button class=\"colab-df-convert\" onclick=\"convertToInteractive('df-c9f48e09-d890-4b6d-a9ff-88a6b3866f16')\"\n",
              "            title=\"Convert this dataframe to an interactive table.\"\n",
              "            style=\"display:none;\">\n",
              "\n",
              "  <svg xmlns=\"http://www.w3.org/2000/svg\" height=\"24px\" viewBox=\"0 -960 960 960\">\n",
              "    <path d=\"M120-120v-720h720v720H120Zm60-500h600v-160H180v160Zm220 220h160v-160H400v160Zm0 220h160v-160H400v160ZM180-400h160v-160H180v160Zm440 0h160v-160H620v160ZM180-180h160v-160H180v160Zm440 0h160v-160H620v160Z\"/>\n",
              "  </svg>\n",
              "    </button>\n",
              "\n",
              "  <style>\n",
              "    .colab-df-container {\n",
              "      display:flex;\n",
              "      gap: 12px;\n",
              "    }\n",
              "\n",
              "    .colab-df-convert {\n",
              "      background-color: #E8F0FE;\n",
              "      border: none;\n",
              "      border-radius: 50%;\n",
              "      cursor: pointer;\n",
              "      display: none;\n",
              "      fill: #1967D2;\n",
              "      height: 32px;\n",
              "      padding: 0 0 0 0;\n",
              "      width: 32px;\n",
              "    }\n",
              "\n",
              "    .colab-df-convert:hover {\n",
              "      background-color: #E2EBFA;\n",
              "      box-shadow: 0px 1px 2px rgba(60, 64, 67, 0.3), 0px 1px 3px 1px rgba(60, 64, 67, 0.15);\n",
              "      fill: #174EA6;\n",
              "    }\n",
              "\n",
              "    .colab-df-buttons div {\n",
              "      margin-bottom: 4px;\n",
              "    }\n",
              "\n",
              "    [theme=dark] .colab-df-convert {\n",
              "      background-color: #3B4455;\n",
              "      fill: #D2E3FC;\n",
              "    }\n",
              "\n",
              "    [theme=dark] .colab-df-convert:hover {\n",
              "      background-color: #434B5C;\n",
              "      box-shadow: 0px 1px 3px 1px rgba(0, 0, 0, 0.15);\n",
              "      filter: drop-shadow(0px 1px 2px rgba(0, 0, 0, 0.3));\n",
              "      fill: #FFFFFF;\n",
              "    }\n",
              "  </style>\n",
              "\n",
              "    <script>\n",
              "      const buttonEl =\n",
              "        document.querySelector('#df-c9f48e09-d890-4b6d-a9ff-88a6b3866f16 button.colab-df-convert');\n",
              "      buttonEl.style.display =\n",
              "        google.colab.kernel.accessAllowed ? 'block' : 'none';\n",
              "\n",
              "      async function convertToInteractive(key) {\n",
              "        const element = document.querySelector('#df-c9f48e09-d890-4b6d-a9ff-88a6b3866f16');\n",
              "        const dataTable =\n",
              "          await google.colab.kernel.invokeFunction('convertToInteractive',\n",
              "                                                    [key], {});\n",
              "        if (!dataTable) return;\n",
              "\n",
              "        const docLinkHtml = 'Like what you see? Visit the ' +\n",
              "          '<a target=\"_blank\" href=https://colab.research.google.com/notebooks/data_table.ipynb>data table notebook</a>'\n",
              "          + ' to learn more about interactive tables.';\n",
              "        element.innerHTML = '';\n",
              "        dataTable['output_type'] = 'display_data';\n",
              "        await google.colab.output.renderOutput(dataTable, element);\n",
              "        const docLink = document.createElement('div');\n",
              "        docLink.innerHTML = docLinkHtml;\n",
              "        element.appendChild(docLink);\n",
              "      }\n",
              "    </script>\n",
              "  </div>\n",
              "\n",
              "\n",
              "<div id=\"df-c41497eb-fba5-4b6c-b0a5-4b6ff9a15dda\">\n",
              "  <button class=\"colab-df-quickchart\" onclick=\"quickchart('df-c41497eb-fba5-4b6c-b0a5-4b6ff9a15dda')\"\n",
              "            title=\"Suggest charts\"\n",
              "            style=\"display:none;\">\n",
              "\n",
              "<svg xmlns=\"http://www.w3.org/2000/svg\" height=\"24px\"viewBox=\"0 0 24 24\"\n",
              "     width=\"24px\">\n",
              "    <g>\n",
              "        <path d=\"M19 3H5c-1.1 0-2 .9-2 2v14c0 1.1.9 2 2 2h14c1.1 0 2-.9 2-2V5c0-1.1-.9-2-2-2zM9 17H7v-7h2v7zm4 0h-2V7h2v10zm4 0h-2v-4h2v4z\"/>\n",
              "    </g>\n",
              "</svg>\n",
              "  </button>\n",
              "\n",
              "<style>\n",
              "  .colab-df-quickchart {\n",
              "      --bg-color: #E8F0FE;\n",
              "      --fill-color: #1967D2;\n",
              "      --hover-bg-color: #E2EBFA;\n",
              "      --hover-fill-color: #174EA6;\n",
              "      --disabled-fill-color: #AAA;\n",
              "      --disabled-bg-color: #DDD;\n",
              "  }\n",
              "\n",
              "  [theme=dark] .colab-df-quickchart {\n",
              "      --bg-color: #3B4455;\n",
              "      --fill-color: #D2E3FC;\n",
              "      --hover-bg-color: #434B5C;\n",
              "      --hover-fill-color: #FFFFFF;\n",
              "      --disabled-bg-color: #3B4455;\n",
              "      --disabled-fill-color: #666;\n",
              "  }\n",
              "\n",
              "  .colab-df-quickchart {\n",
              "    background-color: var(--bg-color);\n",
              "    border: none;\n",
              "    border-radius: 50%;\n",
              "    cursor: pointer;\n",
              "    display: none;\n",
              "    fill: var(--fill-color);\n",
              "    height: 32px;\n",
              "    padding: 0;\n",
              "    width: 32px;\n",
              "  }\n",
              "\n",
              "  .colab-df-quickchart:hover {\n",
              "    background-color: var(--hover-bg-color);\n",
              "    box-shadow: 0 1px 2px rgba(60, 64, 67, 0.3), 0 1px 3px 1px rgba(60, 64, 67, 0.15);\n",
              "    fill: var(--button-hover-fill-color);\n",
              "  }\n",
              "\n",
              "  .colab-df-quickchart-complete:disabled,\n",
              "  .colab-df-quickchart-complete:disabled:hover {\n",
              "    background-color: var(--disabled-bg-color);\n",
              "    fill: var(--disabled-fill-color);\n",
              "    box-shadow: none;\n",
              "  }\n",
              "\n",
              "  .colab-df-spinner {\n",
              "    border: 2px solid var(--fill-color);\n",
              "    border-color: transparent;\n",
              "    border-bottom-color: var(--fill-color);\n",
              "    animation:\n",
              "      spin 1s steps(1) infinite;\n",
              "  }\n",
              "\n",
              "  @keyframes spin {\n",
              "    0% {\n",
              "      border-color: transparent;\n",
              "      border-bottom-color: var(--fill-color);\n",
              "      border-left-color: var(--fill-color);\n",
              "    }\n",
              "    20% {\n",
              "      border-color: transparent;\n",
              "      border-left-color: var(--fill-color);\n",
              "      border-top-color: var(--fill-color);\n",
              "    }\n",
              "    30% {\n",
              "      border-color: transparent;\n",
              "      border-left-color: var(--fill-color);\n",
              "      border-top-color: var(--fill-color);\n",
              "      border-right-color: var(--fill-color);\n",
              "    }\n",
              "    40% {\n",
              "      border-color: transparent;\n",
              "      border-right-color: var(--fill-color);\n",
              "      border-top-color: var(--fill-color);\n",
              "    }\n",
              "    60% {\n",
              "      border-color: transparent;\n",
              "      border-right-color: var(--fill-color);\n",
              "    }\n",
              "    80% {\n",
              "      border-color: transparent;\n",
              "      border-right-color: var(--fill-color);\n",
              "      border-bottom-color: var(--fill-color);\n",
              "    }\n",
              "    90% {\n",
              "      border-color: transparent;\n",
              "      border-bottom-color: var(--fill-color);\n",
              "    }\n",
              "  }\n",
              "</style>\n",
              "\n",
              "  <script>\n",
              "    async function quickchart(key) {\n",
              "      const quickchartButtonEl =\n",
              "        document.querySelector('#' + key + ' button');\n",
              "      quickchartButtonEl.disabled = true;  // To prevent multiple clicks.\n",
              "      quickchartButtonEl.classList.add('colab-df-spinner');\n",
              "      try {\n",
              "        const charts = await google.colab.kernel.invokeFunction(\n",
              "            'suggestCharts', [key], {});\n",
              "      } catch (error) {\n",
              "        console.error('Error during call to suggestCharts:', error);\n",
              "      }\n",
              "      quickchartButtonEl.classList.remove('colab-df-spinner');\n",
              "      quickchartButtonEl.classList.add('colab-df-quickchart-complete');\n",
              "    }\n",
              "    (() => {\n",
              "      let quickchartButtonEl =\n",
              "        document.querySelector('#df-c41497eb-fba5-4b6c-b0a5-4b6ff9a15dda button');\n",
              "      quickchartButtonEl.style.display =\n",
              "        google.colab.kernel.accessAllowed ? 'block' : 'none';\n",
              "    })();\n",
              "  </script>\n",
              "</div>\n",
              "\n",
              "    </div>\n",
              "  </div>\n"
            ],
            "application/vnd.google.colaboratory.intrinsic+json": {
              "type": "dataframe",
              "summary": "{\n  \"name\": \"pd\",\n  \"rows\": 7,\n  \"fields\": [\n    {\n      \"column\": \"Age\",\n      \"properties\": {\n        \"dtype\": \"string\",\n        \"num_unique_values\": 7,\n        \"samples\": [\n          \"0-17\",\n          \"18-25\",\n          \"51-55\"\n        ],\n        \"semantic_type\": \"\",\n        \"description\": \"\"\n      }\n    },\n    {\n      \"column\": 0,\n      \"properties\": {\n        \"dtype\": \"number\",\n        \"std\": 48040,\n        \"min\": 7883,\n        \"max\": 133296,\n        \"num_unique_values\": 7,\n        \"samples\": [\n          15102,\n          78544,\n          10839\n        ],\n        \"semantic_type\": \"\",\n        \"description\": \"\"\n      }\n    },\n    {\n      \"column\": 1,\n      \"properties\": {\n        \"dtype\": \"number\",\n        \"std\": 27636,\n        \"min\": 0,\n        \"max\": 86291,\n        \"num_unique_values\": 7,\n        \"samples\": [\n          0,\n          21116,\n          27662\n        ],\n        \"semantic_type\": \"\",\n        \"description\": \"\"\n      }\n    }\n  ]\n}"
            }
          },
          "metadata": {},
          "execution_count": 17
        }
      ]
    },
    {
      "cell_type": "code",
      "source": [
        "#Lets check if age group and marital status are dependent or independent of each other\n",
        "#As both are categorical columns then it is best suggested to use chi2_contingency\n",
        "significance = 0.05\n",
        "H0 = 'Age group and marital status are independent'\n",
        "Ha = 'Age group and marital status are dependent on each other'\n",
        "chi_stat, p_val, dof, exp_freq = stats.chi2_contingency(pd.crosstab(df.Age, df.Marital_Status))\n",
        "print(f'chi_stat:{chi_stat}, p_value:{p_val}')\n",
        "hypo_result()"
      ],
      "metadata": {
        "colab": {
          "base_uri": "https://localhost:8080/"
        },
        "id": "puEE6Gn-_T7_",
        "outputId": "bacb1d38-b80b-40a6-e74a-523705d85ac3"
      },
      "execution_count": null,
      "outputs": [
        {
          "output_type": "stream",
          "name": "stdout",
          "text": [
            "chi_stat:65038.31034963805, p_value:0.0\n",
            "Reject H0, Conclusion: Age group and marital status are dependent on each other\n"
          ]
        }
      ]
    },
    {
      "cell_type": "code",
      "source": [
        "gender = df.Gender.value_counts().index\n",
        "for i in gender:\n",
        "  products = df[df.Gender==i]['Product_ID'].value_counts(ascending=False).index[:2]\n",
        "  print(f'For gender of {i} most purchased products are {products[0],products[1]}')"
      ],
      "metadata": {
        "colab": {
          "base_uri": "https://localhost:8080/"
        },
        "id": "gL6MgC3zBNF_",
        "outputId": "40e9abb5-d592-4b7c-99df-9625b91dfc5d"
      },
      "execution_count": null,
      "outputs": [
        {
          "output_type": "stream",
          "name": "stdout",
          "text": [
            "For gender of M most purchased products are ('P00265242', 'P00025442')\n",
            "For gender of F most purchased products are ('P00265242', 'P00220442')\n"
          ]
        }
      ]
    },
    {
      "cell_type": "code",
      "source": [
        "df.head()"
      ],
      "metadata": {
        "colab": {
          "base_uri": "https://localhost:8080/",
          "height": 206
        },
        "id": "W6GzERSn8oU6",
        "outputId": "45c0b504-92b2-41a2-80f4-9b887dc69f2f"
      },
      "execution_count": null,
      "outputs": [
        {
          "output_type": "execute_result",
          "data": {
            "text/plain": [
              "   User_ID Product_ID Gender   Age  Occupation City_Category  \\\n",
              "0  1000001  P00069042      F  0-17          10             A   \n",
              "1  1000001  P00248942      F  0-17          10             A   \n",
              "2  1000001  P00087842      F  0-17          10             A   \n",
              "3  1000001  P00085442      F  0-17          10             A   \n",
              "4  1000002  P00285442      M   55+          16             C   \n",
              "\n",
              "  Stay_In_Current_City_Years  Marital_Status  Product_Category  Purchase  \n",
              "0                          2               0                 3      8370  \n",
              "1                          2               0                 1     15200  \n",
              "2                          2               0                12      1422  \n",
              "3                          2               0                12      1057  \n",
              "4                         4+               0                 8      7969  "
            ],
            "text/html": [
              "\n",
              "  <div id=\"df-42fd472f-6130-4cac-b47c-4b162cc95058\" class=\"colab-df-container\">\n",
              "    <div>\n",
              "<style scoped>\n",
              "    .dataframe tbody tr th:only-of-type {\n",
              "        vertical-align: middle;\n",
              "    }\n",
              "\n",
              "    .dataframe tbody tr th {\n",
              "        vertical-align: top;\n",
              "    }\n",
              "\n",
              "    .dataframe thead th {\n",
              "        text-align: right;\n",
              "    }\n",
              "</style>\n",
              "<table border=\"1\" class=\"dataframe\">\n",
              "  <thead>\n",
              "    <tr style=\"text-align: right;\">\n",
              "      <th></th>\n",
              "      <th>User_ID</th>\n",
              "      <th>Product_ID</th>\n",
              "      <th>Gender</th>\n",
              "      <th>Age</th>\n",
              "      <th>Occupation</th>\n",
              "      <th>City_Category</th>\n",
              "      <th>Stay_In_Current_City_Years</th>\n",
              "      <th>Marital_Status</th>\n",
              "      <th>Product_Category</th>\n",
              "      <th>Purchase</th>\n",
              "    </tr>\n",
              "  </thead>\n",
              "  <tbody>\n",
              "    <tr>\n",
              "      <th>0</th>\n",
              "      <td>1000001</td>\n",
              "      <td>P00069042</td>\n",
              "      <td>F</td>\n",
              "      <td>0-17</td>\n",
              "      <td>10</td>\n",
              "      <td>A</td>\n",
              "      <td>2</td>\n",
              "      <td>0</td>\n",
              "      <td>3</td>\n",
              "      <td>8370</td>\n",
              "    </tr>\n",
              "    <tr>\n",
              "      <th>1</th>\n",
              "      <td>1000001</td>\n",
              "      <td>P00248942</td>\n",
              "      <td>F</td>\n",
              "      <td>0-17</td>\n",
              "      <td>10</td>\n",
              "      <td>A</td>\n",
              "      <td>2</td>\n",
              "      <td>0</td>\n",
              "      <td>1</td>\n",
              "      <td>15200</td>\n",
              "    </tr>\n",
              "    <tr>\n",
              "      <th>2</th>\n",
              "      <td>1000001</td>\n",
              "      <td>P00087842</td>\n",
              "      <td>F</td>\n",
              "      <td>0-17</td>\n",
              "      <td>10</td>\n",
              "      <td>A</td>\n",
              "      <td>2</td>\n",
              "      <td>0</td>\n",
              "      <td>12</td>\n",
              "      <td>1422</td>\n",
              "    </tr>\n",
              "    <tr>\n",
              "      <th>3</th>\n",
              "      <td>1000001</td>\n",
              "      <td>P00085442</td>\n",
              "      <td>F</td>\n",
              "      <td>0-17</td>\n",
              "      <td>10</td>\n",
              "      <td>A</td>\n",
              "      <td>2</td>\n",
              "      <td>0</td>\n",
              "      <td>12</td>\n",
              "      <td>1057</td>\n",
              "    </tr>\n",
              "    <tr>\n",
              "      <th>4</th>\n",
              "      <td>1000002</td>\n",
              "      <td>P00285442</td>\n",
              "      <td>M</td>\n",
              "      <td>55+</td>\n",
              "      <td>16</td>\n",
              "      <td>C</td>\n",
              "      <td>4+</td>\n",
              "      <td>0</td>\n",
              "      <td>8</td>\n",
              "      <td>7969</td>\n",
              "    </tr>\n",
              "  </tbody>\n",
              "</table>\n",
              "</div>\n",
              "    <div class=\"colab-df-buttons\">\n",
              "\n",
              "  <div class=\"colab-df-container\">\n",
              "    <button class=\"colab-df-convert\" onclick=\"convertToInteractive('df-42fd472f-6130-4cac-b47c-4b162cc95058')\"\n",
              "            title=\"Convert this dataframe to an interactive table.\"\n",
              "            style=\"display:none;\">\n",
              "\n",
              "  <svg xmlns=\"http://www.w3.org/2000/svg\" height=\"24px\" viewBox=\"0 -960 960 960\">\n",
              "    <path d=\"M120-120v-720h720v720H120Zm60-500h600v-160H180v160Zm220 220h160v-160H400v160Zm0 220h160v-160H400v160ZM180-400h160v-160H180v160Zm440 0h160v-160H620v160ZM180-180h160v-160H180v160Zm440 0h160v-160H620v160Z\"/>\n",
              "  </svg>\n",
              "    </button>\n",
              "\n",
              "  <style>\n",
              "    .colab-df-container {\n",
              "      display:flex;\n",
              "      gap: 12px;\n",
              "    }\n",
              "\n",
              "    .colab-df-convert {\n",
              "      background-color: #E8F0FE;\n",
              "      border: none;\n",
              "      border-radius: 50%;\n",
              "      cursor: pointer;\n",
              "      display: none;\n",
              "      fill: #1967D2;\n",
              "      height: 32px;\n",
              "      padding: 0 0 0 0;\n",
              "      width: 32px;\n",
              "    }\n",
              "\n",
              "    .colab-df-convert:hover {\n",
              "      background-color: #E2EBFA;\n",
              "      box-shadow: 0px 1px 2px rgba(60, 64, 67, 0.3), 0px 1px 3px 1px rgba(60, 64, 67, 0.15);\n",
              "      fill: #174EA6;\n",
              "    }\n",
              "\n",
              "    .colab-df-buttons div {\n",
              "      margin-bottom: 4px;\n",
              "    }\n",
              "\n",
              "    [theme=dark] .colab-df-convert {\n",
              "      background-color: #3B4455;\n",
              "      fill: #D2E3FC;\n",
              "    }\n",
              "\n",
              "    [theme=dark] .colab-df-convert:hover {\n",
              "      background-color: #434B5C;\n",
              "      box-shadow: 0px 1px 3px 1px rgba(0, 0, 0, 0.15);\n",
              "      filter: drop-shadow(0px 1px 2px rgba(0, 0, 0, 0.3));\n",
              "      fill: #FFFFFF;\n",
              "    }\n",
              "  </style>\n",
              "\n",
              "    <script>\n",
              "      const buttonEl =\n",
              "        document.querySelector('#df-42fd472f-6130-4cac-b47c-4b162cc95058 button.colab-df-convert');\n",
              "      buttonEl.style.display =\n",
              "        google.colab.kernel.accessAllowed ? 'block' : 'none';\n",
              "\n",
              "      async function convertToInteractive(key) {\n",
              "        const element = document.querySelector('#df-42fd472f-6130-4cac-b47c-4b162cc95058');\n",
              "        const dataTable =\n",
              "          await google.colab.kernel.invokeFunction('convertToInteractive',\n",
              "                                                    [key], {});\n",
              "        if (!dataTable) return;\n",
              "\n",
              "        const docLinkHtml = 'Like what you see? Visit the ' +\n",
              "          '<a target=\"_blank\" href=https://colab.research.google.com/notebooks/data_table.ipynb>data table notebook</a>'\n",
              "          + ' to learn more about interactive tables.';\n",
              "        element.innerHTML = '';\n",
              "        dataTable['output_type'] = 'display_data';\n",
              "        await google.colab.output.renderOutput(dataTable, element);\n",
              "        const docLink = document.createElement('div');\n",
              "        docLink.innerHTML = docLinkHtml;\n",
              "        element.appendChild(docLink);\n",
              "      }\n",
              "    </script>\n",
              "  </div>\n",
              "\n",
              "\n",
              "<div id=\"df-091ba1e0-feca-4b02-a6fa-673b02b5abc6\">\n",
              "  <button class=\"colab-df-quickchart\" onclick=\"quickchart('df-091ba1e0-feca-4b02-a6fa-673b02b5abc6')\"\n",
              "            title=\"Suggest charts\"\n",
              "            style=\"display:none;\">\n",
              "\n",
              "<svg xmlns=\"http://www.w3.org/2000/svg\" height=\"24px\"viewBox=\"0 0 24 24\"\n",
              "     width=\"24px\">\n",
              "    <g>\n",
              "        <path d=\"M19 3H5c-1.1 0-2 .9-2 2v14c0 1.1.9 2 2 2h14c1.1 0 2-.9 2-2V5c0-1.1-.9-2-2-2zM9 17H7v-7h2v7zm4 0h-2V7h2v10zm4 0h-2v-4h2v4z\"/>\n",
              "    </g>\n",
              "</svg>\n",
              "  </button>\n",
              "\n",
              "<style>\n",
              "  .colab-df-quickchart {\n",
              "      --bg-color: #E8F0FE;\n",
              "      --fill-color: #1967D2;\n",
              "      --hover-bg-color: #E2EBFA;\n",
              "      --hover-fill-color: #174EA6;\n",
              "      --disabled-fill-color: #AAA;\n",
              "      --disabled-bg-color: #DDD;\n",
              "  }\n",
              "\n",
              "  [theme=dark] .colab-df-quickchart {\n",
              "      --bg-color: #3B4455;\n",
              "      --fill-color: #D2E3FC;\n",
              "      --hover-bg-color: #434B5C;\n",
              "      --hover-fill-color: #FFFFFF;\n",
              "      --disabled-bg-color: #3B4455;\n",
              "      --disabled-fill-color: #666;\n",
              "  }\n",
              "\n",
              "  .colab-df-quickchart {\n",
              "    background-color: var(--bg-color);\n",
              "    border: none;\n",
              "    border-radius: 50%;\n",
              "    cursor: pointer;\n",
              "    display: none;\n",
              "    fill: var(--fill-color);\n",
              "    height: 32px;\n",
              "    padding: 0;\n",
              "    width: 32px;\n",
              "  }\n",
              "\n",
              "  .colab-df-quickchart:hover {\n",
              "    background-color: var(--hover-bg-color);\n",
              "    box-shadow: 0 1px 2px rgba(60, 64, 67, 0.3), 0 1px 3px 1px rgba(60, 64, 67, 0.15);\n",
              "    fill: var(--button-hover-fill-color);\n",
              "  }\n",
              "\n",
              "  .colab-df-quickchart-complete:disabled,\n",
              "  .colab-df-quickchart-complete:disabled:hover {\n",
              "    background-color: var(--disabled-bg-color);\n",
              "    fill: var(--disabled-fill-color);\n",
              "    box-shadow: none;\n",
              "  }\n",
              "\n",
              "  .colab-df-spinner {\n",
              "    border: 2px solid var(--fill-color);\n",
              "    border-color: transparent;\n",
              "    border-bottom-color: var(--fill-color);\n",
              "    animation:\n",
              "      spin 1s steps(1) infinite;\n",
              "  }\n",
              "\n",
              "  @keyframes spin {\n",
              "    0% {\n",
              "      border-color: transparent;\n",
              "      border-bottom-color: var(--fill-color);\n",
              "      border-left-color: var(--fill-color);\n",
              "    }\n",
              "    20% {\n",
              "      border-color: transparent;\n",
              "      border-left-color: var(--fill-color);\n",
              "      border-top-color: var(--fill-color);\n",
              "    }\n",
              "    30% {\n",
              "      border-color: transparent;\n",
              "      border-left-color: var(--fill-color);\n",
              "      border-top-color: var(--fill-color);\n",
              "      border-right-color: var(--fill-color);\n",
              "    }\n",
              "    40% {\n",
              "      border-color: transparent;\n",
              "      border-right-color: var(--fill-color);\n",
              "      border-top-color: var(--fill-color);\n",
              "    }\n",
              "    60% {\n",
              "      border-color: transparent;\n",
              "      border-right-color: var(--fill-color);\n",
              "    }\n",
              "    80% {\n",
              "      border-color: transparent;\n",
              "      border-right-color: var(--fill-color);\n",
              "      border-bottom-color: var(--fill-color);\n",
              "    }\n",
              "    90% {\n",
              "      border-color: transparent;\n",
              "      border-bottom-color: var(--fill-color);\n",
              "    }\n",
              "  }\n",
              "</style>\n",
              "\n",
              "  <script>\n",
              "    async function quickchart(key) {\n",
              "      const quickchartButtonEl =\n",
              "        document.querySelector('#' + key + ' button');\n",
              "      quickchartButtonEl.disabled = true;  // To prevent multiple clicks.\n",
              "      quickchartButtonEl.classList.add('colab-df-spinner');\n",
              "      try {\n",
              "        const charts = await google.colab.kernel.invokeFunction(\n",
              "            'suggestCharts', [key], {});\n",
              "      } catch (error) {\n",
              "        console.error('Error during call to suggestCharts:', error);\n",
              "      }\n",
              "      quickchartButtonEl.classList.remove('colab-df-spinner');\n",
              "      quickchartButtonEl.classList.add('colab-df-quickchart-complete');\n",
              "    }\n",
              "    (() => {\n",
              "      let quickchartButtonEl =\n",
              "        document.querySelector('#df-091ba1e0-feca-4b02-a6fa-673b02b5abc6 button');\n",
              "      quickchartButtonEl.style.display =\n",
              "        google.colab.kernel.accessAllowed ? 'block' : 'none';\n",
              "    })();\n",
              "  </script>\n",
              "</div>\n",
              "\n",
              "    </div>\n",
              "  </div>\n"
            ],
            "application/vnd.google.colaboratory.intrinsic+json": {
              "type": "dataframe",
              "variable_name": "df"
            }
          },
          "metadata": {},
          "execution_count": 7
        }
      ]
    },
    {
      "cell_type": "markdown",
      "source": [
        "**<font color='blue'>5.1 Comments on the distribution of the variables and relationship between them**\n",
        "\n",
        "Actually there aren't enough enough variable which can form relationship and the only possible relationship is occupation vs purchase and which doesnot have much impact"
      ],
      "metadata": {
        "id": "ynMdZHmI43Kl"
      }
    },
    {
      "cell_type": "markdown",
      "source": [
        "**<font color='blue'>5.2 Comments for each univariate and bivariate plots**\n",
        "\n",
        "![image.png](data:image/png;base64,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)\n",
        "\n",
        "![image.png](data:image/png;base64,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)"
      ],
      "metadata": {
        "id": "jtrf345Z4-n6"
      }
    },
    {
      "cell_type": "markdown",
      "source": [
        "**Gender**: Here according to number of orders the bar graph is plotted not by the actual number of males & females and this means men have ordered most of the products in black friday sale.\n",
        "\n",
        "**Age**: We dont have the data as the user age where it was like bins and most of the users come under 18-45 years of age where it is morethan 65% of all the orders of male and female users\n",
        "\n",
        "**City**: We have 3 city categories and in them B and C has done morethan 75% of orders and is less only when compared with other cities\n",
        "\n",
        "**Martial_status**: Unmarried users have orders morethan married users"
      ],
      "metadata": {
        "id": "uvIro-1ASSNd"
      }
    },
    {
      "cell_type": "markdown",
      "source": [
        "\n",
        "\n",
        "*   Unanimously men dominate female on number of purchase made on black friday\n",
        "*   Maximum number of customers lie in age group of 26-35\n",
        "* Users of City B have done max purchases\n",
        "* Unmarried users bought more then married users\n",
        "* Unmarried women and men purchased more than married women and men\n"
      ],
      "metadata": {
        "id": "pitMHLfH5VtR"
      }
    },
    {
      "cell_type": "markdown",
      "source": [
        "**<font color='blue'>5.3 Comments on different variables when generalizing it for Population**\n",
        "\n",
        "In this WallMart dataset only Purchase variable is used most of the times so.\n",
        "\n",
        "Concentrate on city C and city B where more than 75% of the purchases happen\n",
        "\n",
        "User_ID: Amount spent : no. of orders\n",
        "\n",
        "* 1004277: 10536909     : 979\n",
        "\n",
        "* 1001680: 8699596      : 1026\n",
        "\n",
        "Here one most important thing is ID ending with 680 have orders more items but its revenue is not the highest and vice versa\n"
      ],
      "metadata": {
        "id": "KNg3kesZ5Auj"
      }
    },
    {
      "cell_type": "markdown",
      "source": [
        "#<font color='purple'>6. Recommendations (10 Points)\n",
        "**Actionable items for business. No technical jargon. No complications. Simple action items that everyone can understand**"
      ],
      "metadata": {
        "id": "hjp8uara41b6"
      }
    },
    {
      "cell_type": "markdown",
      "source": [
        "A total of **5891** unique customers have ordered on black friday sale on wallmart\n",
        "where, **71%** (4225)of them were **male** The most purchasing age group is between **18-45 years males** with about **58% of all the orders**\n",
        "\n",
        "\n",
        "Average amount spent by men and women\n",
        "\n",
        "* F    8734.56\n",
        "* M    9437.52\n",
        "\n",
        "By this info wall mart should **concentrate on male customers** with the age group of 18-45 years where this is mostly earning age and they are young so they have no restrictions\n",
        "\n",
        "**Unmarried** users **bought morethan** married useres this might be due to many factors like other financial commitments\n",
        "`So to overcome this situation it is adviced to advertise about black friday sale atleast one month that to one week before the salary date so that they can manage their savings likely`\n",
        "\n",
        "Users in **CITY B** have done maximum transactions morethan 40% of orders have come from this city\n",
        "\n",
        "**Final recommendation:**\n",
        "Concentarate more on men with age groups of 18-45 years in city A and that is by increasing advertising, offers, fast delivery options so by that in future sales in city A also improves in number of purchases and might be equally have share with other cities which were already doing good\n",
        "\n",
        "As city B is the most ordered then it is best to continue the same and increase or change the strategy on trial and error basis"
      ],
      "metadata": {
        "id": "PtyVyjW5_VjK"
      }
    }
  ]
}